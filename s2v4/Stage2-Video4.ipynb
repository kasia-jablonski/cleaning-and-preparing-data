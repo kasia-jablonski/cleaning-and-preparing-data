{
 "cells": [
  {
   "cell_type": "markdown",
   "metadata": {},
   "source": [
    "Import the Pandas and Numpy libraries and load in the data file\n",
    "---"
   ]
  },
  {
   "cell_type": "code",
   "execution_count": 42,
   "metadata": {},
   "outputs": [],
   "source": [
    "import pandas as pd\n",
    "import numpy as np\n",
    "\n",
    "demo = pd.read_csv('Demographics.csv')\n",
    "bmx = pd.read_csv('BodyMeasures.csv')"
   ]
  },
  {
   "cell_type": "markdown",
   "metadata": {},
   "source": [
    "How much data is missing from each column?\n",
    "---"
   ]
  },
  {
   "cell_type": "code",
   "execution_count": 43,
   "metadata": {},
   "outputs": [
    {
     "data": {
      "text/plain": [
       "SEQN          0\n",
       "SDDSRVYR    211\n",
       "RIDSTATR    209\n",
       "RIDEXMON    920\n",
       "RIAGENDR    211\n",
       "dtype: int64"
      ]
     },
     "execution_count": 43,
     "metadata": {},
     "output_type": "execute_result"
    }
   ],
   "source": [
    "valid_entries = demo.count()\n",
    "total_rows = len(demo.index)\n",
    "missing_data = total_rows - valid_entries\n",
    "missing_data.head()"
   ]
  },
  {
   "cell_type": "markdown",
   "metadata": {},
   "source": [
    "As a percentage\n",
    "---"
   ]
  },
  {
   "cell_type": "code",
   "execution_count": 44,
   "metadata": {},
   "outputs": [
    {
     "data": {
      "text/plain": [
       "SEQN        0.000000\n",
       "SDDSRVYR    1.993199\n",
       "RIDSTATR    1.974306\n",
       "RIDEXMON    8.690724\n",
       "RIAGENDR    1.993199\n",
       "dtype: float64"
      ]
     },
     "execution_count": 44,
     "metadata": {},
     "output_type": "execute_result"
    }
   ],
   "source": [
    "missing_percentage = missing_data / total_rows * 100\n",
    "missing_percentage.head()"
   ]
  },
  {
   "cell_type": "markdown",
   "metadata": {},
   "source": [
    "How much data is missing from each row?\n",
    "---"
   ]
  },
  {
   "cell_type": "code",
   "execution_count": 45,
   "metadata": {},
   "outputs": [
    {
     "data": {
      "text/plain": [
       "0    8.333333\n",
       "1    6.944444\n",
       "2    4.861111\n",
       "3    8.333333\n",
       "4    5.555556\n",
       "dtype: float64"
      ]
     },
     "execution_count": 45,
     "metadata": {},
     "output_type": "execute_result"
    }
   ],
   "source": [
    "missing_data = np.sum(demo.isnull(), axis=1)\n",
    "num_cols = len(demo.columns)\n",
    "missing_percentage = missing_data / num_cols * 100\n",
    "\n",
    "missing_percentage.head()"
   ]
  },
  {
   "cell_type": "markdown",
   "metadata": {
    "collapsed": true
   },
   "source": [
    "What about entries equivalent to unknown?\n",
    "---\n",
    "\n",
    "DMDSCHOL - Now attending school? ([codebook entry](https://wwwn.cdc.gov/Nchs/Nhanes/1999-2000/DEMO.htm#DMDSCHOL))\n",
    "\n",
    "|Code|Meaning|\n",
    "|:--- |:--- |\n",
    "|1| In school|\n",
    "|2|\tOn vacation from school (between grades)|\n",
    "|3|\tNeither in school or on vacation from school (between grades)|\n",
    "|7|\tRefused|\n",
    "|9|\tDon't know|"
   ]
  },
  {
   "cell_type": "code",
   "execution_count": 46,
   "metadata": {},
   "outputs": [
    {
     "name": "stdout",
     "output_type": "stream",
     "text": [
      "Percent missing: 67\n",
      "Number refused: 0\n",
      "Number unknown: 2\n"
     ]
    }
   ],
   "source": [
    "perc = (len(demo.index)-demo['DMDSCHOL'].count())/len(demo.index)*100\n",
    "print('Percent missing: %d' % perc)\n",
    "\n",
    "num_refused = sum(demo['DMDSCHOL'] == 7)\n",
    "num_dontknow = sum(demo['DMDSCHOL'] == 9)\n",
    "print('Number refused: %d' % num_refused)\n",
    "print('Number unknown: %d' % num_dontknow)"
   ]
  },
  {
   "cell_type": "code",
   "execution_count": 47,
   "metadata": {},
   "outputs": [
    {
     "name": "stdout",
     "output_type": "stream",
     "text": [
      "[nan  1.  3.  2.]\n"
     ]
    }
   ],
   "source": [
    "unknown_ind = demo.loc[:,'DMDSCHOL'] > 3\n",
    "demo.loc[unknown_ind,'DMDSCHOL'] = np.nan\n",
    "print(demo['DMDSCHOL'].unique())"
   ]
  },
  {
   "cell_type": "code",
   "execution_count": 48,
   "metadata": {},
   "outputs": [
    {
     "name": "stdout",
     "output_type": "stream",
     "text": [
      "Percent missing: 67\n",
      "Number refused: 0\n",
      "Number unknown: 0\n"
     ]
    }
   ],
   "source": [
    "perc = (len(demo.index)-demo['DMDSCHOL'].count())/len(demo.index)*100\n",
    "print('Percent missing: %d' % perc)\n",
    "\n",
    "num_refused = sum(demo['DMDSCHOL'] == 7)\n",
    "num_dontknow = sum(demo['DMDSCHOL'] == 9)\n",
    "print('Number refused: %d' % num_refused)\n",
    "print('Number unknown: %d' % num_dontknow)"
   ]
  },
  {
   "cell_type": "markdown",
   "metadata": {},
   "source": [
    "Wrong Information\n",
    "---"
   ]
  },
  {
   "cell_type": "code",
   "execution_count": 49,
   "metadata": {},
   "outputs": [
    {
     "name": "stdout",
     "output_type": "stream",
     "text": [
      "Demographics:\n",
      "SEQN          int64\n",
      "SDDSRVYR    float64\n",
      "RIDSTATR     object\n",
      "RIDEXMON    float64\n",
      "RIAGENDR     object\n",
      "dtype: object\n",
      "\n",
      "Body Measures:\n",
      "SEQN         object\n",
      "BMAEXLEN    float64\n",
      "BMAEXSTS    float64\n",
      "BMAEXCMT    float64\n",
      "BMXWT       float64\n",
      "dtype: object\n"
     ]
    }
   ],
   "source": [
    "print('Demographics:')\n",
    "print(demo.dtypes.head())\n",
    "print('\\nBody Measures:')\n",
    "print(bmx.dtypes.head())"
   ]
  },
  {
   "cell_type": "code",
   "execution_count": 50,
   "metadata": {},
   "outputs": [
    {
     "ename": "ValueError",
     "evalue": "Unable to parse string \"Jane Doe\" at position 1385",
     "output_type": "error",
     "traceback": [
      "\u001b[1;31m---------------------------------------------------------------------------\u001b[0m",
      "\u001b[1;31mValueError\u001b[0m                                Traceback (most recent call last)",
      "\u001b[1;32mpandas\\_libs\\lib.pyx\u001b[0m in \u001b[0;36mpandas._libs.lib.maybe_convert_numeric\u001b[1;34m()\u001b[0m\n",
      "\u001b[1;31mValueError\u001b[0m: Unable to parse string \"Jane Doe\"",
      "\nDuring handling of the above exception, another exception occurred:\n",
      "\u001b[1;31mValueError\u001b[0m                                Traceback (most recent call last)",
      "\u001b[1;32m<ipython-input-50-affc10891c3c>\u001b[0m in \u001b[0;36m<module>\u001b[1;34m\u001b[0m\n\u001b[1;32m----> 1\u001b[1;33m \u001b[0mbmx\u001b[0m\u001b[1;33m.\u001b[0m\u001b[0mloc\u001b[0m\u001b[1;33m[\u001b[0m\u001b[1;33m:\u001b[0m\u001b[1;33m,\u001b[0m\u001b[1;34m'SEQN'\u001b[0m\u001b[1;33m]\u001b[0m \u001b[1;33m=\u001b[0m \u001b[0mpd\u001b[0m\u001b[1;33m.\u001b[0m\u001b[0mto_numeric\u001b[0m\u001b[1;33m(\u001b[0m\u001b[0mbmx\u001b[0m\u001b[1;33m[\u001b[0m\u001b[1;34m'SEQN'\u001b[0m\u001b[1;33m]\u001b[0m\u001b[1;33m,\u001b[0m \u001b[0mdowncast\u001b[0m\u001b[1;33m=\u001b[0m\u001b[1;34m'integer'\u001b[0m\u001b[1;33m)\u001b[0m\u001b[1;33m\u001b[0m\u001b[1;33m\u001b[0m\u001b[0m\n\u001b[0m",
      "\u001b[1;32mC:\\ProgramData\\Anaconda3\\lib\\site-packages\\pandas\\core\\tools\\numeric.py\u001b[0m in \u001b[0;36mto_numeric\u001b[1;34m(arg, errors, downcast)\u001b[0m\n\u001b[0;32m    150\u001b[0m         \u001b[0mcoerce_numeric\u001b[0m \u001b[1;33m=\u001b[0m \u001b[0merrors\u001b[0m \u001b[1;32mnot\u001b[0m \u001b[1;32min\u001b[0m \u001b[1;33m(\u001b[0m\u001b[1;34m\"ignore\"\u001b[0m\u001b[1;33m,\u001b[0m \u001b[1;34m\"raise\"\u001b[0m\u001b[1;33m)\u001b[0m\u001b[1;33m\u001b[0m\u001b[1;33m\u001b[0m\u001b[0m\n\u001b[0;32m    151\u001b[0m         \u001b[1;32mtry\u001b[0m\u001b[1;33m:\u001b[0m\u001b[1;33m\u001b[0m\u001b[1;33m\u001b[0m\u001b[0m\n\u001b[1;32m--> 152\u001b[1;33m             values = lib.maybe_convert_numeric(\n\u001b[0m\u001b[0;32m    153\u001b[0m                 \u001b[0mvalues\u001b[0m\u001b[1;33m,\u001b[0m \u001b[0mset\u001b[0m\u001b[1;33m(\u001b[0m\u001b[1;33m)\u001b[0m\u001b[1;33m,\u001b[0m \u001b[0mcoerce_numeric\u001b[0m\u001b[1;33m=\u001b[0m\u001b[0mcoerce_numeric\u001b[0m\u001b[1;33m\u001b[0m\u001b[1;33m\u001b[0m\u001b[0m\n\u001b[0;32m    154\u001b[0m             )\n",
      "\u001b[1;32mpandas\\_libs\\lib.pyx\u001b[0m in \u001b[0;36mpandas._libs.lib.maybe_convert_numeric\u001b[1;34m()\u001b[0m\n",
      "\u001b[1;31mValueError\u001b[0m: Unable to parse string \"Jane Doe\" at position 1385"
     ]
    }
   ],
   "source": [
    "bmx.loc[:,'SEQN'] = pd.to_numeric(bmx['SEQN'], downcast='integer')"
   ]
  },
  {
   "cell_type": "code",
   "execution_count": 51,
   "metadata": {},
   "outputs": [
    {
     "data": {
      "text/plain": [
       "SEQN        float64\n",
       "BMAEXLEN    float64\n",
       "BMAEXSTS    float64\n",
       "BMAEXCMT    float64\n",
       "BMXWT       float64\n",
       "dtype: object"
      ]
     },
     "execution_count": 51,
     "metadata": {},
     "output_type": "execute_result"
    }
   ],
   "source": [
    "bmx.loc[:,'SEQN'] = pd.to_numeric(bmx['SEQN'], errors='coerce', downcast='integer')\n",
    "bmx.dtypes.head()"
   ]
  },
  {
   "cell_type": "code",
   "execution_count": 52,
   "metadata": {},
   "outputs": [
    {
     "data": {
      "text/plain": [
       "SEQN          int16\n",
       "BMAEXLEN    float64\n",
       "BMAEXSTS    float64\n",
       "BMAEXCMT    float64\n",
       "BMXWT       float64\n",
       "dtype: object"
      ]
     },
     "execution_count": 52,
     "metadata": {},
     "output_type": "execute_result"
    }
   ],
   "source": [
    "ind = np.isnan(bmx['SEQN'])\n",
    "bmx = bmx.loc[~ind,:]\n",
    "bmx.loc[:,'SEQN'] = pd.to_numeric(bmx['SEQN'], errors='coerce', downcast='integer')\n",
    "bmx.dtypes.head()"
   ]
  },
  {
   "cell_type": "markdown",
   "metadata": {},
   "source": [
    "Sensitive Data: Minor Marital Status\n",
    "---"
   ]
  },
  {
   "cell_type": "code",
   "execution_count": 53,
   "metadata": {},
   "outputs": [
    {
     "name": "stdout",
     "output_type": "stream",
     "text": [
      "1244\n"
     ]
    }
   ],
   "source": [
    "minor_ind = demo.loc[:,'RIDAGEYR'] < 18\n",
    "print(demo.loc[minor_ind, 'DMDMARTL'].count())"
   ]
  },
  {
   "cell_type": "code",
   "execution_count": null,
   "metadata": {},
   "outputs": [],
   "source": []
  },
  {
   "cell_type": "code",
   "execution_count": 54,
   "metadata": {},
   "outputs": [
    {
     "name": "stdout",
     "output_type": "stream",
     "text": [
      "0\n"
     ]
    }
   ],
   "source": [
    "demo.loc[minor_ind, 'DMDMARTL'] = np.nan\n",
    "print(demo.loc[minor_ind, 'DMDMARTL'].count())"
   ]
  },
  {
   "cell_type": "code",
   "execution_count": null,
   "metadata": {},
   "outputs": [],
   "source": []
  },
  {
   "cell_type": "markdown",
   "metadata": {},
   "source": [
    "Individual Practice\n",
    "---\n",
    "\n",
    "1. Find the column with the highest percentage of missing information in demographics\n",
    "2. Remove confidential pregnancy status for minors (rows 'RIDEXPRG' and 'RIDPREG')\n"
   ]
  },
  {
   "cell_type": "code",
   "execution_count": 58,
   "metadata": {},
   "outputs": [
    {
     "data": {
      "text/plain": [
       "SEQN        0.000000\n",
       "SDDSRVYR    1.993199\n",
       "RIDSTATR    1.974306\n",
       "RIDEXMON    8.690724\n",
       "RIAGENDR    1.993199\n",
       "dtype: float64"
      ]
     },
     "execution_count": 58,
     "metadata": {},
     "output_type": "execute_result"
    }
   ],
   "source": [
    "valid_entries = demo.count()\n",
    "total_rows = len(demo.index)\n",
    "missing_data = total_rows - valid_entries\n",
    "missing_percentage = missing_data / total_rows * 100\n",
    "missing_percentage.head()"
   ]
  },
  {
   "cell_type": "code",
   "execution_count": 59,
   "metadata": {},
   "outputs": [
    {
     "data": {
      "text/plain": [
       "DMARACE     99.782732\n",
       "DMAETHN     99.773285\n",
       "RIDPREG     81.758927\n",
       "DMDYRSUS    81.267712\n",
       "RIDEXPRG    80.445872\n",
       "              ...    \n",
       "WTMREP03     1.955413\n",
       "WTMREP47     1.955413\n",
       "WTMREP30     1.955413\n",
       "WTIREP40     1.945966\n",
       "SEQN         0.000000\n",
       "Length: 144, dtype: float64"
      ]
     },
     "execution_count": 59,
     "metadata": {},
     "output_type": "execute_result"
    }
   ],
   "source": [
    "missing_percentage.sort_values(ascending=False)"
   ]
  },
  {
   "cell_type": "code",
   "execution_count": 60,
   "metadata": {},
   "outputs": [
    {
     "data": {
      "text/plain": [
       "'DMARACE'"
      ]
     },
     "execution_count": 60,
     "metadata": {},
     "output_type": "execute_result"
    }
   ],
   "source": [
    "missing_percentage.idxmax()"
   ]
  },
  {
   "cell_type": "code",
   "execution_count": 61,
   "metadata": {},
   "outputs": [
    {
     "data": {
      "text/plain": [
       "0   NaN\n",
       "1   NaN\n",
       "2   NaN\n",
       "3   NaN\n",
       "4   NaN\n",
       "Name: DMARACE, dtype: float64"
      ]
     },
     "execution_count": 61,
     "metadata": {},
     "output_type": "execute_result"
    }
   ],
   "source": [
    "demo['DMARACE'].head()"
   ]
  },
  {
   "cell_type": "code",
   "execution_count": 64,
   "metadata": {},
   "outputs": [
    {
     "name": "stdout",
     "output_type": "stream",
     "text": [
      "14\n",
      "0\n"
     ]
    }
   ],
   "source": [
    "minor_ind = demo.loc[:,'RIDAGEYR'] < 18\n",
    "print(demo.loc[minor_ind, 'RIDEXPRG'].count())\n",
    "demo.loc[minor_ind, 'RIDEXPRG'] = np.nan\n",
    "print(demo.loc[minor_ind, 'RIDEXPRG'].count())"
   ]
  },
  {
   "cell_type": "code",
   "execution_count": 66,
   "metadata": {},
   "outputs": [
    {
     "name": "stdout",
     "output_type": "stream",
     "text": [
      "14\n",
      "0\n"
     ]
    }
   ],
   "source": [
    "print(demo.loc[minor_ind, 'RIDPREG'].count())\n",
    "demo.loc[minor_ind, 'RIDPREG'] = np.nan\n",
    "print(demo.loc[minor_ind, 'RIDPREG'].count())"
   ]
  },
  {
   "cell_type": "markdown",
   "metadata": {},
   "source": [
    "Save Data Files\n",
    "---"
   ]
  },
  {
   "cell_type": "code",
   "execution_count": 67,
   "metadata": {},
   "outputs": [],
   "source": [
    "demo.to_csv('Demographics.csv', index=False)\n",
    "bmx.to_csv('BodyMeasures.csv', index=False)"
   ]
  }
 ],
 "metadata": {
  "kernelspec": {
   "display_name": "Python 3",
   "language": "python",
   "name": "python3"
  },
  "language_info": {
   "codemirror_mode": {
    "name": "ipython",
    "version": 3
   },
   "file_extension": ".py",
   "mimetype": "text/x-python",
   "name": "python",
   "nbconvert_exporter": "python",
   "pygments_lexer": "ipython3",
   "version": "3.8.5"
  }
 },
 "nbformat": 4,
 "nbformat_minor": 2
}
