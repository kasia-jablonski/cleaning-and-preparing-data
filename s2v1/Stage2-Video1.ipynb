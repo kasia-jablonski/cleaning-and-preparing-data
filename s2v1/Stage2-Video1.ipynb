{
 "cells": [
  {
   "cell_type": "markdown",
   "metadata": {},
   "source": [
    "Import the pandas library and load in the data file\n",
    "---"
   ]
  },
  {
   "cell_type": "code",
   "execution_count": 1,
   "metadata": {},
   "outputs": [],
   "source": [
    "import pandas as pd\n",
    "\n",
    "demo = pd.read_csv('Demographics.csv')"
   ]
  },
  {
   "cell_type": "markdown",
   "metadata": {},
   "source": [
    "Look at the data types of different columns\n",
    "---"
   ]
  },
  {
   "cell_type": "code",
   "execution_count": 2,
   "metadata": {},
   "outputs": [
    {
     "data": {
      "text/plain": [
       "SEQN          int64\n",
       "RIDAGEYR    float64\n",
       "RIAGENDR     object\n",
       "DMQMILIT     object\n",
       "DMDCITZN     object\n",
       "dtype: object"
      ]
     },
     "execution_count": 2,
     "metadata": {},
     "output_type": "execute_result"
    }
   ],
   "source": [
    "demo.loc[:,['SEQN','RIDAGEYR','RIAGENDR','DMQMILIT', 'DMDCITZN']].dtypes"
   ]
  },
  {
   "cell_type": "markdown",
   "metadata": {},
   "source": [
    "Find unique entries for Military/Veteran Status\n",
    "---\n",
    "\n",
    "According to the [Demographics Codebook](https://wwwn.cdc.gov/Nchs/Nhanes/1999-2000/DEMO.htm) there should be 5 unique entries:\n",
    "  * Yes\n",
    "  * No\n",
    "  * Don't know\n",
    "  * Refused\n",
    "  * Missing (NaN)"
   ]
  },
  {
   "cell_type": "code",
   "execution_count": 3,
   "metadata": {},
   "outputs": [
    {
     "name": "stdout",
     "output_type": "stream",
     "text": [
      "38\n",
      "[nan 'Y' 'Yes' '  No' ' No' 'N' 'No' 'No  ' ' Y' 'N ' 'Yes ' '  N' 'No '\n",
      " 'N  ' ' Yes' 'Y ' ' N' '  N ' 'Y  ' '  Yes' '  No  ' 'Yes  ' \"Don't know\"\n",
      " '  Y' ' N  ' ' No ' ' No  ' '  N  ' 'Refused' '  No ' '  Yes  '\n",
      " \"Don't know \" ' Yes ' ' N ' '  Yes ' ' Yes  ' 'Refused ' \" Don't know\"]\n"
     ]
    }
   ],
   "source": [
    "print(len(demo['DMQMILIT'].unique()))\n",
    "print(demo['DMQMILIT'].unique())"
   ]
  },
  {
   "cell_type": "markdown",
   "metadata": {},
   "source": [
    "Remove excess whitespace\n",
    "---"
   ]
  },
  {
   "cell_type": "code",
   "execution_count": 4,
   "metadata": {},
   "outputs": [
    {
     "name": "stdout",
     "output_type": "stream",
     "text": [
      "7\n",
      "[nan 'Y' 'Yes' 'No' 'N' \"Don't know\" 'Refused']\n"
     ]
    }
   ],
   "source": [
    "demo.loc[:,'DMQMILIT'] = demo.loc[:,'DMQMILIT'].str.strip()\n",
    "\n",
    "print(len(demo['DMQMILIT'].unique()))\n",
    "print(demo['DMQMILIT'].unique())"
   ]
  },
  {
   "cell_type": "markdown",
   "metadata": {},
   "source": [
    "Change Y and N to Yes and No\n",
    "---\n",
    "\n",
    "Use the `replace()` method to change 'Y' and 'N' to 'Yes' and 'No'\n",
    "\n",
    "* `replace_dict` - specifies how to replace the data\n",
    "  - Outer dictionary: key is column name, value is dictionary of replacements (inner dictionary)\n",
    "  - Inner dictionary: key is the value to be replaced, value is what to replace all instances of the key with"
   ]
  },
  {
   "cell_type": "code",
   "execution_count": 5,
   "metadata": {},
   "outputs": [
    {
     "name": "stdout",
     "output_type": "stream",
     "text": [
      "5\n",
      "[nan 'Yes' 'No' \"Don't know\" 'Refused']\n"
     ]
    }
   ],
   "source": [
    "replace_dict = {'DMQMILIT': {\n",
    "                              'Y':'Yes', \n",
    "                              'N':'No'\n",
    "                            }\n",
    "               }\n",
    "\n",
    "demo.replace(replace_dict, inplace=True)\n",
    "\n",
    "print(len(demo['DMQMILIT'].unique()))\n",
    "print(demo['DMQMILIT'].unique())"
   ]
  },
  {
   "cell_type": "markdown",
   "metadata": {
    "collapsed": true
   },
   "source": [
    "Find unique entries for Citizenship Status\n",
    "---\n",
    "\n",
    "According to the [Demographics Codebook](https://wwwn.cdc.gov/Nchs/Nhanes/1999-2000/DEMO.htm) there should be 5 unique entries:\n",
    "  * Citizen by birth or naturalization\n",
    "  * Not a citizen of the US\n",
    "  * Refused\n",
    "  * Don't know\n",
    "  * Missing (NaN)"
   ]
  },
  {
   "cell_type": "code",
   "execution_count": 6,
   "metadata": {},
   "outputs": [
    {
     "name": "stdout",
     "output_type": "stream",
     "text": [
      "31\n",
      "['Citizen by birth or naturalization' 'Not a citizen of the US'\n",
      " '  Citizen by birth or naturalization'\n",
      " ' Citizen by birth or naturalization'\n",
      " 'Citizen by birth or naturalization '\n",
      " 'Citizen by birth or naturalization  ' ' Not a citizen of the US'\n",
      " 'Not a citizen of the US ' 'Not a citizen of the US  ' 'Refused'\n",
      " \" Don't know\" '  Not a citizen of the US'\n",
      " '  Citizen by birth or naturalization '\n",
      " ' Citizen by birth or naturalization  '\n",
      " ' Citizen by birth or naturalization ' 'Unknown' \"Don't know\"\n",
      " ' Dont know' ' Not a citizen of the US '\n",
      " '  Citizen by birth or naturalization  ' ' Not a citizen of the US  ' nan\n",
      " '  Refused' 'Unknown  ' '  Not a citizen of the US ' 'Dont know'\n",
      " ' Refused' \"  Don't know \" \"Don't Know\" \"  Don't know\" \"Don't know  \"]\n"
     ]
    }
   ],
   "source": [
    "print(len(demo['DMDCITZN'].unique()))\n",
    "print(demo['DMDCITZN'].unique())"
   ]
  },
  {
   "cell_type": "code",
   "execution_count": null,
   "metadata": {},
   "outputs": [],
   "source": []
  },
  {
   "cell_type": "markdown",
   "metadata": {},
   "source": [
    "Remove excess whitespace\n",
    "---"
   ]
  },
  {
   "cell_type": "code",
   "execution_count": 7,
   "metadata": {},
   "outputs": [
    {
     "name": "stdout",
     "output_type": "stream",
     "text": [
      "8\n",
      "['Citizen by birth or naturalization' 'Not a citizen of the US' 'Refused'\n",
      " \"Don't know\" 'Unknown' 'Dont know' nan \"Don't Know\"]\n"
     ]
    }
   ],
   "source": [
    "demo.loc[:,'DMDCITZN'] = demo.loc[:,'DMDCITZN'].str.strip()\n",
    "\n",
    "print(len(demo['DMDCITZN'].unique()))\n",
    "print(demo['DMDCITZN'].unique())"
   ]
  },
  {
   "cell_type": "markdown",
   "metadata": {},
   "source": [
    "Replace misspellings\n",
    "---\n",
    "\n",
    "Three values should be replaced with \"Don't know\"\n",
    "  * \"Dont know\"\n",
    "  * \"Don't Know\"\n",
    "  * \"Unknown\""
   ]
  },
  {
   "cell_type": "code",
   "execution_count": 8,
   "metadata": {},
   "outputs": [
    {
     "name": "stdout",
     "output_type": "stream",
     "text": [
      "5\n",
      "['Citizen by birth or naturalization' 'Not a citizen of the US' 'Refused'\n",
      " \"Don't know\" nan]\n"
     ]
    }
   ],
   "source": [
    "replace_dict = {'DMDCITZN': {\n",
    "                              \"Dont know\":\"Don't know\", \n",
    "                              \"Don't Know\":\"Don't know\",\n",
    "                              \"Unknown\":\"Don't know\"\n",
    "                            }\n",
    "               }\n",
    "\n",
    "demo.replace(replace_dict, inplace=True)\n",
    "\n",
    "print(len(demo['DMDCITZN'].unique()))\n",
    "print(demo['DMDCITZN'].unique())"
   ]
  },
  {
   "cell_type": "markdown",
   "metadata": {},
   "source": [
    "Replace both columns at once\n",
    "---"
   ]
  },
  {
   "cell_type": "code",
   "execution_count": null,
   "metadata": {},
   "outputs": [],
   "source": [
    "replace_dict = {'DMQMILIT': {\n",
    "                              'Y':'Yes', \n",
    "                              'N':'No'\n",
    "                            },\n",
    "                'DMDCITZN': {\n",
    "                              \"Dont know\":\"Don't know\", \n",
    "                              \"Don't Know\":\"Don't know\",\n",
    "                              \"Unknown\":\"Don't know\"\n",
    "                            }\n",
    "               }\n",
    "\n",
    "demo.replace(replace_dict, inplace=True)"
   ]
  },
  {
   "cell_type": "markdown",
   "metadata": {},
   "source": [
    "Individual Practice\n",
    "---\n",
    "\n",
    "1. Find all of the columns in the demographics file that contain string data. \n",
    "2. Get rid of all excess whitespace.\n",
    "3. Make sure all text entries match the text options in the [demographics codebook](https://wwwn.cdc.gov/Nchs/Nhanes/1999-2000/DEMO.htm)."
   ]
  },
  {
   "cell_type": "code",
   "execution_count": 9,
   "metadata": {},
   "outputs": [
    {
     "name": "stdout",
     "output_type": "stream",
     "text": [
      "36\n",
      "['Female' 'Male' 'F  ' 'M' 'F' '  Female' 'M  ' 'F ' ' M' 'Male ' ' F'\n",
      " ' Female' '  Male' ' Male' '  F' 'Male  ' 'M ' 'Female ' 'Female  ' '  M'\n",
      " '  M  ' ' Female ' ' M  ' ' Male ' '  F ' '  Male ' '  Female  '\n",
      " ' Female  ' ' M ' ' F ' '  Female ' '  M ' ' Male  ' '  Male  ' ' F  '\n",
      " nan]\n"
     ]
    }
   ],
   "source": [
    "print(len(demo['RIAGENDR'].unique()))\n",
    "print(demo['RIAGENDR'].unique())"
   ]
  },
  {
   "cell_type": "code",
   "execution_count": 10,
   "metadata": {},
   "outputs": [],
   "source": [
    "demo.loc[:,'RIAGENDR'] = demo.loc[:,'RIAGENDR'].str.strip()"
   ]
  },
  {
   "cell_type": "code",
   "execution_count": 11,
   "metadata": {},
   "outputs": [
    {
     "name": "stdout",
     "output_type": "stream",
     "text": [
      "5\n",
      "['Female' 'Male' 'F' 'M' nan]\n"
     ]
    }
   ],
   "source": [
    "print(len(demo['RIAGENDR'].unique()))\n",
    "print(demo['RIAGENDR'].unique())"
   ]
  },
  {
   "cell_type": "code",
   "execution_count": 12,
   "metadata": {},
   "outputs": [
    {
     "name": "stdout",
     "output_type": "stream",
     "text": [
      "3\n",
      "['Female' 'Male' nan]\n"
     ]
    }
   ],
   "source": [
    "replace_dict = {'RIAGENDR': {\n",
    "                              \"F\":\"Female\", \n",
    "                              \"M\":\"Male\",\n",
    "                            }\n",
    "               }\n",
    "\n",
    "demo.replace(replace_dict, inplace=True)\n",
    "\n",
    "print(len(demo['RIAGENDR'].unique()))\n",
    "print(demo['RIAGENDR'].unique())"
   ]
  },
  {
   "cell_type": "code",
   "execution_count": 13,
   "metadata": {},
   "outputs": [
    {
     "data": {
      "text/plain": [
       "RIDSTATR    True\n",
       "RIAGENDR    True\n",
       "RIDRETH1    True\n",
       "DMQMILIT    True\n",
       "DMDBORN     True\n",
       "DMDCITZN    True\n",
       "DMDYRSUS    True\n",
       "DMDEDUC3    True\n",
       "DMDEDUC2    True\n",
       "DMDSCHOL    True\n",
       "DMDMARTL    True\n",
       "dtype: bool"
      ]
     },
     "execution_count": 13,
     "metadata": {},
     "output_type": "execute_result"
    }
   ],
   "source": [
    "typeCol=(demo.dtypes==object)\n",
    "\n",
    "typeCol.loc[typeCol==True]"
   ]
  },
  {
   "cell_type": "code",
   "execution_count": 14,
   "metadata": {},
   "outputs": [
    {
     "name": "stdout",
     "output_type": "stream",
     "text": [
      "71\n",
      "['Exam  ' 'Both  ' 'Exam' 'Both' 'Both ' ' Exam ' '  Both' 'exam'\n",
      " 'Both Interviewed and MEC examined' ' Both Interviewed and MCE examined'\n",
      " 'Interview Only' ' Both' nan ' exam' '  Exam' ' Both ' 'Only Interview  '\n",
      " 'Interviewed Only' 'Only Interview ' 'Interview  ' 'exam  '\n",
      " ' Both Interviewed and MEC examined' 'exam ' 'interview' ' Both  '\n",
      " 'Only Interview' 'Interview' 'Both Interviewed and MEC examined  '\n",
      " '  Both Interviewed and MEC examined' 'Interview Only '\n",
      " '  Interview Only' 'Both Interviewed and MEC examined ' ' Exam'\n",
      " 'Both Interviewed and MCE examined' ' Both Interviewed and MEC examined '\n",
      " ' Only Interview' '  Only Interview ' '  Both  ' '  exam'\n",
      " ' Interview Only ' '  Both ' 'Interviewed Only ' ' Interview Only'\n",
      " 'Both Interviewed and MCE examined  ' '  Interviewed Only' 'Exam '\n",
      " 'Both Interviewed and MCE examined ' 'Interview ' ' exam  ' '  Exam '\n",
      " '  Both Interviewed and MCE examined' ' Interviewed Only'\n",
      " '  Only Interview  ' ' Interview' '  Both Interviewed and MEC examined '\n",
      " ' exam ' 'interview  ' '  Interview' '  Exam  ' '  Only Interview'\n",
      " '  exam ' '  Interview Only ' 'Interview Only  ' 'Interviewed Only  '\n",
      " ' Exam  ' ' interview' ' Both Interviewed and MEC examined  '\n",
      " ' Interviewed Only  ' '  Both Interviewed and MEC examined  '\n",
      " '  interview' ' Interview Only  ']\n"
     ]
    }
   ],
   "source": [
    "print(len(demo['RIDSTATR'].unique()))\n",
    "print(demo['RIDSTATR'].unique())"
   ]
  },
  {
   "cell_type": "code",
   "execution_count": 15,
   "metadata": {},
   "outputs": [],
   "source": [
    "demo.loc[:,'RIDSTATR'] = demo.loc[:,'RIDSTATR'].str.strip()"
   ]
  },
  {
   "cell_type": "code",
   "execution_count": 16,
   "metadata": {},
   "outputs": [
    {
     "name": "stdout",
     "output_type": "stream",
     "text": [
      "11\n",
      "['Exam' 'Both' 'exam' 'Both Interviewed and MEC examined'\n",
      " 'Both Interviewed and MCE examined' 'Interview Only' nan 'Only Interview'\n",
      " 'Interviewed Only' 'Interview' 'interview']\n"
     ]
    }
   ],
   "source": [
    "print(len(demo['RIDSTATR'].unique()))\n",
    "print(demo['RIDSTATR'].unique())"
   ]
  },
  {
   "cell_type": "code",
   "execution_count": 19,
   "metadata": {},
   "outputs": [
    {
     "data": {
      "text/plain": [
       "RIDSTATR\n",
       "Both                                 4856\n",
       "Both Interviewed and MCE examined     192\n",
       "Both Interviewed and MEC examined     958\n",
       "Exam                                 1695\n",
       "Interview                              99\n",
       "Interview Only                        354\n",
       "Interviewed Only                       75\n",
       "Only Interview                        147\n",
       "exam                                 1956\n",
       "interview                              45\n",
       "dtype: int64"
      ]
     },
     "execution_count": 19,
     "metadata": {},
     "output_type": "execute_result"
    }
   ],
   "source": [
    "grouped = demo.groupby('RIDSTATR')\n",
    "grouped.size()"
   ]
  },
  {
   "cell_type": "code",
   "execution_count": 20,
   "metadata": {},
   "outputs": [
    {
     "name": "stdout",
     "output_type": "stream",
     "text": [
      "3\n",
      "['Both Interviewed and MEC examined' 'Interviewed Only' nan]\n"
     ]
    }
   ],
   "source": [
    "replace_dict = {'RIDSTATR': {\n",
    "                              \"Both Interviewed and MCE examined\":\"Both Interviewed and MEC examined\", \n",
    "                              \"Both\":\"Both Interviewed and MEC examined\",\n",
    "                              \"Exam\":\"Both Interviewed and MEC examined\",\n",
    "                              \"exam\":\"Both Interviewed and MEC examined\",\n",
    "                                \"Interview\":\"Interviewed Only\",\n",
    "                                \"Interview Only\":\"Interviewed Only\",\n",
    "                                \"Only Interview\":\"Interviewed Only\",\n",
    "                                \"interview\":\"Interviewed Only\"\n",
    "                            }\n",
    "               }\n",
    "\n",
    "demo.replace(replace_dict, inplace=True)\n",
    "\n",
    "print(len(demo['RIDSTATR'].unique()))\n",
    "print(demo['RIDSTATR'].unique())"
   ]
  },
  {
   "cell_type": "code",
   "execution_count": 21,
   "metadata": {},
   "outputs": [
    {
     "name": "stdout",
     "output_type": "stream",
     "text": [
      "42\n",
      "['Non-Hispanic Black' 'Non-Hispanic White' '  Non-Hispanic White'\n",
      " 'Other Race - Including Multi-Racial' 'Non-Hispanic Black '\n",
      " ' Non-Hispanic White' 'Mexican American' '  Mexican American'\n",
      " '  Non-Hispanic Black ' '  Other Hispanic' 'Mexican American '\n",
      " 'Other Hispanic' nan 'Other Race - Including Multi-Racial '\n",
      " 'Non-Hispanic White ' 'Non-Hispanic White  ' 'Other Hispanic '\n",
      " '  Non-Hispanic Black' ' Mexican American' 'Non-Hispanic Black  '\n",
      " 'Mexican American  ' ' Non-Hispanic Black' ' Non-Hispanic White '\n",
      " 'Other Race - Including Multi-Racial  ' 'Other Hispanic  '\n",
      " ' Non-Hispanic White  ' ' Mexican American ' ' Other Hispanic'\n",
      " ' Other Hispanic  ' ' Other Race - Including Multi-Racial'\n",
      " '  Mexican American ' ' Non-Hispanic Black ' '  Non-Hispanic White '\n",
      " '  Other Race - Including Multi-Racial  ' '  Non-Hispanic White  '\n",
      " '  Other Hispanic  ' '  Other Race - Including Multi-Racial'\n",
      " ' Non-Hispanic Black  ' '  Non-Hispanic Black  ' ' Mexican American  '\n",
      " ' Other Race - Including Multi-Racial '\n",
      " ' Other Race - Including Multi-Racial  ']\n"
     ]
    }
   ],
   "source": [
    "print(len(demo['RIDRETH1'].unique()))\n",
    "print(demo['RIDRETH1'].unique())"
   ]
  },
  {
   "cell_type": "code",
   "execution_count": 22,
   "metadata": {},
   "outputs": [
    {
     "name": "stdout",
     "output_type": "stream",
     "text": [
      "6\n",
      "['Non-Hispanic Black' 'Non-Hispanic White'\n",
      " 'Other Race - Including Multi-Racial' 'Mexican American' 'Other Hispanic'\n",
      " nan]\n"
     ]
    }
   ],
   "source": [
    "demo.loc[:,'RIDRETH1'] = demo.loc[:,'RIDRETH1'].str.strip()\n",
    "print(len(demo['RIDRETH1'].unique()))\n",
    "print(demo['RIDRETH1'].unique())"
   ]
  },
  {
   "cell_type": "code",
   "execution_count": 23,
   "metadata": {},
   "outputs": [
    {
     "name": "stdout",
     "output_type": "stream",
     "text": [
      "28\n",
      "['Born in 50 US States or Washington, DC' 'Born Elsewhere'\n",
      " ' Born in 50 US States or Washington, DC'\n",
      " 'Born in 50 US States or Washington, DC '\n",
      " '  Born in 50 US States or Washington, DC' 'Born in Mexico'\n",
      " ' Born in 50 US States or Washington, DC '\n",
      " 'Born in 50 US States or Washington, DC  ' ' Born Elsewhere'\n",
      " ' Born in Mexico' 'Born Elsewhere '\n",
      " '  Born in 50 US States or Washington, DC  ' 'Born Elsewhere  '\n",
      " '  Born in Mexico' 'Born in Mexico ' '  Born Elsewhere' nan\n",
      " ' Born in Mexico  ' 'Born in Mexico  '\n",
      " ' Born in 50 US States or Washington, DC  ' 'Refused'\n",
      " '  Born in 50 US States or Washington, DC ' ' Born in Mexico '\n",
      " '  Born in Mexico  ' ' Born Elsewhere  ' '  Born Elsewhere ' \"Don't know\"\n",
      " ' Born Elsewhere ']\n"
     ]
    }
   ],
   "source": [
    "print(len(demo['DMDBORN'].unique()))\n",
    "print(demo['DMDBORN'].unique())"
   ]
  },
  {
   "cell_type": "code",
   "execution_count": 24,
   "metadata": {},
   "outputs": [
    {
     "name": "stdout",
     "output_type": "stream",
     "text": [
      "6\n",
      "['Born in 50 US States or Washington, DC' 'Born Elsewhere'\n",
      " 'Born in Mexico' nan 'Refused' \"Don't know\"]\n"
     ]
    }
   ],
   "source": [
    "demo.loc[:,'DMDBORN'] = demo.loc[:,'DMDBORN'].str.strip()\n",
    "print(len(demo['DMDBORN'].unique()))\n",
    "print(demo['DMDBORN'].unique())"
   ]
  },
  {
   "cell_type": "code",
   "execution_count": 25,
   "metadata": {},
   "outputs": [
    {
     "name": "stdout",
     "output_type": "stream",
     "text": [
      "72\n",
      "[nan '1 yr., less than 5 yrs.' '5 yrs., less than 10 yrs.'\n",
      " '20 yrs., less than 30 yrs.' '40 yrs., less than 50 yrs. '\n",
      " '10 yrs., less than 15 yrs.' '30 yrs., less than 40 yrs.'\n",
      " '40 yrs., less than 50 yrs.' '50 years or more'\n",
      " '15 yrs., less than 20 yrs. ' ' 5 yrs., less than 10 yrs.'\n",
      " 'Less than 1 year' '15 yrs., less than 20 yrs.'\n",
      " ' 15 yrs., less than 20 yrs.' ' 20 yrs., less than 30 yrs.'\n",
      " '  1 yr., less than 5 yrs.' '  40 yrs., less than 50 yrs.' 'Refused'\n",
      " ' 1 yr., less than 5 yrs.' '5 yrs., less than 10 yrs. '\n",
      " '  30 yrs., less than 40 yrs. ' '1 yr., less than 5 yrs. '\n",
      " '  10 yrs., less than 15 yrs.' '  5 yrs., less than 10 yrs.'\n",
      " \"Don't know  \" '30 yrs., less than 40 yrs. ' '1 yr., less than 5 yrs.  '\n",
      " '10 yrs., less than 15 yrs. ' 'Less than 1 year '\n",
      " '20 yrs., less than 30 yrs.  ' ' 5 yrs., less than 10 yrs. '\n",
      " ' Less than 1 year' ' 40 yrs., less than 50 yrs.'\n",
      " '  30 yrs., less than 40 yrs.' '  20 yrs., less than 30 yrs.'\n",
      " '40 yrs., less than 50 yrs.  ' '  50 years or more' 'Refused  '\n",
      " '5 yrs., less than 10 yrs.  ' '  Less than 1 year '\n",
      " '15 yrs., less than 20 yrs.  ' \" Don't know\"\n",
      " '  15 yrs., less than 20 yrs.' '  15 yrs., less than 20 yrs. '\n",
      " \"Don't know\" ' 1 yr., less than 5 yrs. ' ' 30 yrs., less than 40 yrs.  '\n",
      " 'Less than 1 year  ' ' 50 years or more ' ' 30 yrs., less than 40 yrs.'\n",
      " '  Less than 1 year' '  20 yrs., less than 30 yrs.  '\n",
      " '20 yrs., less than 30 yrs. ' '50 years or more '\n",
      " '30 yrs., less than 40 yrs.  ' ' 10 yrs., less than 15 yrs.'\n",
      " ' 30 yrs., less than 40 yrs. ' '10 yrs., less than 15 yrs.  '\n",
      " '  1 yr., less than 5 yrs.  ' '  5 yrs., less than 10 yrs. ' ' Refused'\n",
      " ' 20 yrs., less than 30 yrs. ' ' 5 yrs., less than 10 yrs.  '\n",
      " '50 years or more  ' 'Could not determine'\n",
      " '  10 yrs., less than 15 yrs.  ' 'Refused ' ' 50 years or more'\n",
      " '  50 years or more  ' '  1 yr., less than 5 yrs. '\n",
      " '  Less than 1 year  ' '  10 yrs., less than 15 yrs. ']\n"
     ]
    }
   ],
   "source": [
    "print(len(demo['DMDYRSUS'].unique()))\n",
    "print(demo['DMDYRSUS'].unique())"
   ]
  },
  {
   "cell_type": "code",
   "execution_count": 26,
   "metadata": {},
   "outputs": [
    {
     "name": "stdout",
     "output_type": "stream",
     "text": [
      "13\n",
      "[nan '1 yr., less than 5 yrs.' '5 yrs., less than 10 yrs.'\n",
      " '20 yrs., less than 30 yrs.' '40 yrs., less than 50 yrs.'\n",
      " '10 yrs., less than 15 yrs.' '30 yrs., less than 40 yrs.'\n",
      " '50 years or more' '15 yrs., less than 20 yrs.' 'Less than 1 year'\n",
      " 'Refused' \"Don't know\" 'Could not determine']\n"
     ]
    }
   ],
   "source": [
    "demo.loc[:,'DMDYRSUS'] = demo.loc[:,'DMDYRSUS'].str.strip()\n",
    "print(len(demo['DMDYRSUS'].unique()))\n",
    "print(demo['DMDYRSUS'].unique())"
   ]
  },
  {
   "cell_type": "code",
   "execution_count": 27,
   "metadata": {},
   "outputs": [
    {
     "name": "stdout",
     "output_type": "stream",
     "text": [
      "117\n",
      "[nan '3rd Grade' 'More than high school' '5th Grade' '8th Grade  '\n",
      " 'High School Graduate' '7th Grade' '11th Grade' '1st Grade' '9th Grade'\n",
      " '6th Grade' 'Never Attended / Kindergarten Only'\n",
      " '  12th Grade, No Diploma' '8th Grade' '  6th Grade'\n",
      " '12th Grade, No Diploma' '10th Grade' '4th Grade' '7th Grade '\n",
      " '2nd Grade' ' 8th Grade' '1st Grade  ' ' 3rd Grade' ' 6th Grade'\n",
      " '5th Grade ' ' 1st Grade ' ' 11th Grade' '1st Grade ' 'GED or Equivalent'\n",
      " '9th Grade ' 'Never Attended / Kindergarten Only  ' ' 7th Grade'\n",
      " '11th Grade ' '  Never Attended / Kindergarten Only'\n",
      " 'Less Than 9th Grade' 'More than high school  ' '  More than high school'\n",
      " '3rd Grade ' '6th Grade  ' ' 2nd Grade' ' 2nd Grade ' '10th Grade '\n",
      " '  8th Grade' '7th Grade  ' '  High School Graduate' '  9th Grade'\n",
      " ' High School Graduate' ' 10th Grade' ' 4th Grade'\n",
      " 'Never Attended / Kindergarten Only ' '  11th Grade' '8th Grade '\n",
      " ' 9th Grade' '4th Grade ' '9th Grade  ' ' 5th Grade'\n",
      " '  Less Than 5th Grade' ' 1st Grade' '3rd Grade  ' '  4th Grade'\n",
      " '  7th Grade' '2nd Grade  ' 'High School Graduate ' '2nd Grade '\n",
      " '11th Grade  ' '5th Grade  ' ' 7th Grade  ' ' 9th Grade ' '10th Grade  '\n",
      " 'Less Than 9th Grade ' ' More than high school' 'High School Graduate  '\n",
      " '12th Grade, No Diploma ' '  7th Grade ' ' 10th Grade  ' '  10th Grade'\n",
      " ' Refused' '  1st Grade' ' Less Than 9th Grade ' '  5th Grade'\n",
      " 'More than high school ' '4th Grade  '\n",
      " ' Never Attended / Kindergarten Only' ' 4th Grade  ' '  2nd Grade'\n",
      " '6th Grade ' ' GED or Equivalent ' ' 3rd Grade ' 'Refused' ' 8th Grade '\n",
      " '  Less Than 9th Grade' '  8th Grade ' '  3rd Grade'\n",
      " ' 12th Grade, No Diploma' '  GED or Equivalent ' '  11th Grade '\n",
      " ' 10th Grade ' ' High School Graduate ' '  2nd Grade '\n",
      " 'Less Than 9th Grade  ' '  7th Grade  ' '  5th Grade '\n",
      " 'GED or Equivalent  ' ' More than high school  ' 'Less Than 5th Grade'\n",
      " '  6th Grade  ' '  9th Grade ' '12th Grade, No Diploma  ' ' 11th Grade  '\n",
      " ' Less Than 9th Grade' ' 6th Grade ' ' 5th Grade  ' ' 4th Grade '\n",
      " \"Don't know\" ' 11th Grade ' ' 9th Grade  ' ' Less Than 5th Grade']\n"
     ]
    }
   ],
   "source": [
    "print(len(demo['DMDEDUC3'].unique()))\n",
    "print(demo['DMDEDUC3'].unique())"
   ]
  },
  {
   "cell_type": "code",
   "execution_count": 28,
   "metadata": {},
   "outputs": [
    {
     "name": "stdout",
     "output_type": "stream",
     "text": [
      "21\n",
      "[nan '3rd Grade' 'More than high school' '5th Grade' '8th Grade'\n",
      " 'High School Graduate' '7th Grade' '11th Grade' '1st Grade' '9th Grade'\n",
      " '6th Grade' 'Never Attended / Kindergarten Only' '12th Grade, No Diploma'\n",
      " '10th Grade' '4th Grade' '2nd Grade' 'GED or Equivalent'\n",
      " 'Less Than 9th Grade' 'Less Than 5th Grade' 'Refused' \"Don't know\"]\n"
     ]
    }
   ],
   "source": [
    "demo.loc[:,'DMDEDUC3'] = demo.loc[:,'DMDEDUC3'].str.strip()\n",
    "print(len(demo['DMDEDUC3'].unique()))\n",
    "print(demo['DMDEDUC3'].unique())"
   ]
  },
  {
   "cell_type": "code",
   "execution_count": 30,
   "metadata": {},
   "outputs": [
    {
     "name": "stdout",
     "output_type": "stream",
     "text": [
      "49\n",
      "[nan 'College Graduate or above' 'College Graduate or above  '\n",
      " '9-11th Grade (Includes 12th grade with no diploma)'\n",
      " 'High School Grad/GED or Equivalent' 'Some College or AA degree'\n",
      " 'Less Than 9th Grade' 'High School Grad/GED or Equivalent '\n",
      " ' High School Grad/GED or Equivalent' '  Some College or AA degree'\n",
      " '9-11th Grade (Includes 12th grade with no diploma) '\n",
      " ' College Graduate or above'\n",
      " '  9-11th Grade (Includes 12th grade with no diploma)'\n",
      " 'Some College or AA degree  ' 'Some College or AA degree '\n",
      " ' 9-11th Grade (Includes 12th grade with no diploma) '\n",
      " ' 9-11th Grade (Includes 12th grade with no diploma)'\n",
      " '  Less Than 9th Grade' '  High School Grad/GED or Equivalent'\n",
      " '  9-11th Grade (Includes 12th grade with no diploma)  '\n",
      " 'High School Grad/GED or Equivalent  ' ' Less Than 9th Grade'\n",
      " 'Less Than 9th Grade ' ' Some College or AA degree'\n",
      " ' Some College or AA degree ' 'College Graduate or above '\n",
      " 'Less Than 9th Grade  ' \"Don't Know\" '  College Graduate or above'\n",
      " '9-11th Grade (Includes 12th grade with no diploma)  '\n",
      " ' High School Grad/GED or Equivalent  '\n",
      " '  9-11th Grade (Includes 12th grade with no diploma) '\n",
      " '  High School Grad/GED or Equivalent ' 'Refused'\n",
      " '  College Graduate or above ' ' High School Grad/GED or Equivalent '\n",
      " ' College Graduate or above  ' ' Less Than 9th Grade  ' 'Refused '\n",
      " \"Don't Know \" ' Less Than 9th Grade '\n",
      " ' 9-11th Grade (Includes 12th grade with no diploma)  '\n",
      " ' College Graduate or above ' '  Less Than 9th Grade  '\n",
      " '  College Graduate or above  ' \" Don't Know\"\n",
      " '  Some College or AA degree  ' '  Some College or AA degree '\n",
      " ' Some College or AA degree  ']\n"
     ]
    }
   ],
   "source": [
    "print(len(demo['DMDEDUC2'].unique()))\n",
    "print(demo['DMDEDUC2'].unique())"
   ]
  },
  {
   "cell_type": "code",
   "execution_count": 31,
   "metadata": {},
   "outputs": [
    {
     "name": "stdout",
     "output_type": "stream",
     "text": [
      "8\n",
      "[nan 'College Graduate or above'\n",
      " '9-11th Grade (Includes 12th grade with no diploma)'\n",
      " 'High School Grad/GED or Equivalent' 'Some College or AA degree'\n",
      " 'Less Than 9th Grade' \"Don't Know\" 'Refused']\n"
     ]
    }
   ],
   "source": [
    "demo.loc[:,'DMDEDUC2'] = demo.loc[:,'DMDEDUC2'].str.strip()\n",
    "print(len(demo['DMDEDUC2'].unique()))\n",
    "print(demo['DMDEDUC2'].unique())"
   ]
  },
  {
   "cell_type": "code",
   "execution_count": 32,
   "metadata": {},
   "outputs": [
    {
     "name": "stdout",
     "output_type": "stream",
     "text": [
      "35\n",
      "[nan 'In school' 'Neither  ' 'On vacation from school (between grades)'\n",
      " 'Neither' '  On vacation from school (between grades)' ' Neither'\n",
      " '  In school' 'In school  ' ' In school'\n",
      " 'On vacation from school (between grades) ' 'In school '\n",
      " 'Neither in school or on vacation from school (between grades)'\n",
      " ' In school ' 'Neither ' ' On vacation from school (between grades)'\n",
      " 'On vacation from school (between grades)  '\n",
      " ' On vacation from school (between grades) ' ' In school  ' '  Neither '\n",
      " '  Neither'\n",
      " 'Neither in school or on vacation from school (between grades) '\n",
      " '  In school '\n",
      " ' Neither in school or on vacation from school (between grades)'\n",
      " ' Neither  ' ' On vacation from school (between grades)  '\n",
      " '  On vacation from school (between grades) '\n",
      " 'Neither in school or on vacation from school (between grades)  '\n",
      " '  Neither  '\n",
      " '  Neither in school or on vacation from school (between grades)  '\n",
      " '  In school  ' ' Neither '\n",
      " '  Neither in school or on vacation from school (between grades)'\n",
      " \"Don't Know\"\n",
      " 'Neither in school or on vacation frm school (between grades)']\n"
     ]
    }
   ],
   "source": [
    "print(len(demo['DMDSCHOL'].unique()))\n",
    "print(demo['DMDSCHOL'].unique())"
   ]
  },
  {
   "cell_type": "code",
   "execution_count": 33,
   "metadata": {},
   "outputs": [
    {
     "name": "stdout",
     "output_type": "stream",
     "text": [
      "7\n",
      "[nan 'In school' 'Neither' 'On vacation from school (between grades)'\n",
      " 'Neither in school or on vacation from school (between grades)'\n",
      " \"Don't Know\"\n",
      " 'Neither in school or on vacation frm school (between grades)']\n"
     ]
    }
   ],
   "source": [
    "demo.loc[:,'DMDSCHOL'] = demo.loc[:,'DMDSCHOL'].str.strip()\n",
    "print(len(demo['DMDSCHOL'].unique()))\n",
    "print(demo['DMDSCHOL'].unique())"
   ]
  },
  {
   "cell_type": "code",
   "execution_count": 34,
   "metadata": {},
   "outputs": [
    {
     "name": "stdout",
     "output_type": "stream",
     "text": [
      "6\n",
      "[nan 'In school' 'Neither' 'On vacation from school (between grades)'\n",
      " 'Neither in school or on vacation from school (between grades)'\n",
      " \"Don't Know\"]\n"
     ]
    }
   ],
   "source": [
    "replace_dict = {'DMDSCHOL': {\n",
    "                              \"Neither in school or on vacation frm school (between grades)\":\"Neither in school or on vacation from school (between grades)\"\n",
    "                            }\n",
    "               }\n",
    "\n",
    "demo.replace(replace_dict, inplace=True)\n",
    "\n",
    "print(len(demo['DMDSCHOL'].unique()))\n",
    "print(demo['DMDSCHOL'].unique())"
   ]
  },
  {
   "cell_type": "code",
   "execution_count": 35,
   "metadata": {},
   "outputs": [
    {
     "name": "stdout",
     "output_type": "stream",
     "text": [
      "50\n",
      "[nan '  Married' 'Never married' 'Married' 'Separated' 'Never married  '\n",
      " 'Divorced' 'Widowed' 'Living with partner' 'Never married ' 'Widowed '\n",
      " ' Widowed' 'Married ' '  Never married' ' Divorced' ' Never married '\n",
      " ' Married' '  Separated' 'Divorced ' 'Divorced  ' ' Never married'\n",
      " 'Married  ' '  Widowed' '  Married ' ' Living with partner' '  Divorced'\n",
      " 'Widowed  ' 'Living with partner ' ' Separated' '  Married  '\n",
      " '  Never married  ' 'Refused' ' Separated  ' ' Married ' ' Divorced '\n",
      " 'Separated ' '  Widowed ' ' Married  ' 'Separated  '\n",
      " '  Living with partner' ' Never married  ' 'Living with partner  '\n",
      " ' Living with partner ' ' Widowed ' '  Widowed  ' '  Never married '\n",
      " ' Widowed  ' ' Separated ' \"Don't Know\" \" Don't Know\"]\n"
     ]
    }
   ],
   "source": [
    "print(len(demo['DMDMARTL'].unique()))\n",
    "print(demo['DMDMARTL'].unique())"
   ]
  },
  {
   "cell_type": "code",
   "execution_count": 36,
   "metadata": {},
   "outputs": [
    {
     "name": "stdout",
     "output_type": "stream",
     "text": [
      "9\n",
      "[nan 'Married' 'Never married' 'Separated' 'Divorced' 'Widowed'\n",
      " 'Living with partner' 'Refused' \"Don't Know\"]\n"
     ]
    }
   ],
   "source": [
    "demo.loc[:,'DMDMARTL'] = demo.loc[:,'DMDMARTL'].str.strip()\n",
    "print(len(demo['DMDMARTL'].unique()))\n",
    "print(demo['DMDMARTL'].unique())"
   ]
  },
  {
   "cell_type": "markdown",
   "metadata": {},
   "source": [
    "Save data files\n",
    "---"
   ]
  },
  {
   "cell_type": "code",
   "execution_count": 40,
   "metadata": {},
   "outputs": [],
   "source": [
    "demo.to_csv('Demographics.csv', index=False)"
   ]
  },
  {
   "cell_type": "code",
   "execution_count": 38,
   "metadata": {},
   "outputs": [
    {
     "name": "stdout",
     "output_type": "stream",
     "text": [
      "5\n",
      "['Citizen by birth or naturalization' 'Not a citizen of the US' 'Refused'\n",
      " \"Don't know\" nan]\n"
     ]
    }
   ],
   "source": [
    "print(len(demo['DMDCITZN'].unique()))\n",
    "print(demo['DMDCITZN'].unique())"
   ]
  }
 ],
 "metadata": {
  "kernelspec": {
   "display_name": "Python 3",
   "language": "python",
   "name": "python3"
  },
  "language_info": {
   "codemirror_mode": {
    "name": "ipython",
    "version": 3
   },
   "file_extension": ".py",
   "mimetype": "text/x-python",
   "name": "python",
   "nbconvert_exporter": "python",
   "pygments_lexer": "ipython3",
   "version": "3.8.5"
  }
 },
 "nbformat": 4,
 "nbformat_minor": 2
}
