{
 "cells": [
  {
   "cell_type": "markdown",
   "metadata": {},
   "source": [
    "Import the pandas library and load in the data file\n",
    "---"
   ]
  },
  {
   "cell_type": "code",
   "execution_count": 14,
   "metadata": {},
   "outputs": [],
   "source": [
    "import pandas as pd\n",
    "\n",
    "demo = pd.read_csv('Demographics.csv')"
   ]
  },
  {
   "cell_type": "markdown",
   "metadata": {},
   "source": [
    "Replace strings with numerical code\n",
    "---"
   ]
  },
  {
   "cell_type": "code",
   "execution_count": 15,
   "metadata": {},
   "outputs": [
    {
     "name": "stdout",
     "output_type": "stream",
     "text": [
      "[nan  1.  2.  9.  7.]\n",
      "[ 1.  2.  7.  9. nan]\n"
     ]
    }
   ],
   "source": [
    "replace_dict = {'DMQMILIT': {\n",
    "                              'Yes':1, \n",
    "                              'No':2,\n",
    "                              'Refused':7,\n",
    "                              \"Don't know\":9\n",
    "                            },\n",
    "                'DMDCITZN': {\n",
    "                              'Citizen by birth or naturalization':1, \n",
    "                              'Not a citizen of the US':2,\n",
    "                              'Refused':7,\n",
    "                              \"Don't know\":9\n",
    "                            }\n",
    "               }\n",
    "\n",
    "demo.replace(replace_dict, inplace=True)\n",
    "\n",
    "print(demo['DMQMILIT'].unique())\n",
    "print(demo['DMDCITZN'].unique())"
   ]
  },
  {
   "cell_type": "markdown",
   "metadata": {},
   "source": [
    "Replace column names with human-readable strings\n",
    "---"
   ]
  },
  {
   "cell_type": "code",
   "execution_count": 11,
   "metadata": {},
   "outputs": [
    {
     "data": {
      "text/plain": [
       "Index(['Veteran/Military Status', 'DMDBORN', 'Citizenship Status', 'DMDYRSUS',\n",
       "       'DMDEDUC3'],\n",
       "      dtype='object')"
      ]
     },
     "execution_count": 11,
     "metadata": {},
     "output_type": "execute_result"
    }
   ],
   "source": [
    "column_dict = {\n",
    "    'DMQMILIT':'Veteran/Military Status',\n",
    "    'DMDCITZN':'Citizenship Status'}\n",
    "\n",
    "\n",
    "demo.rename(columns=column_dict, inplace=True)\n",
    "\n",
    "demo.columns[10:15]"
   ]
  },
  {
   "cell_type": "markdown",
   "metadata": {},
   "source": [
    "View new column types\n",
    "---"
   ]
  },
  {
   "cell_type": "code",
   "execution_count": 12,
   "metadata": {},
   "outputs": [
    {
     "data": {
      "text/plain": [
       "Veteran/Military Status    float64\n",
       "Citizenship Status         float64\n",
       "dtype: object"
      ]
     },
     "execution_count": 12,
     "metadata": {},
     "output_type": "execute_result"
    }
   ],
   "source": [
    "demo.loc[:,['Veteran/Military Status', 'Citizenship Status']].dtypes"
   ]
  },
  {
   "cell_type": "markdown",
   "metadata": {},
   "source": [
    "Individual Practice\n",
    "---\n",
    "\n",
    "1. Convert the columns with string entries to the numeric codes listed in the demographics codebook. \n",
    "2. Return all column names to the original ones used in the codebook."
   ]
  },
  {
   "cell_type": "code",
   "execution_count": 19,
   "metadata": {
    "scrolled": true
   },
   "outputs": [
    {
     "data": {
      "text/plain": [
       "DMDSCHOL    True\n",
       "dtype: bool"
      ]
     },
     "execution_count": 19,
     "metadata": {},
     "output_type": "execute_result"
    }
   ],
   "source": [
    "typeCol=(demo.dtypes==object)\n",
    "\n",
    "typeCol.loc[typeCol==True]"
   ]
  },
  {
   "cell_type": "code",
   "execution_count": 22,
   "metadata": {},
   "outputs": [
    {
     "name": "stdout",
     "output_type": "stream",
     "text": [
      "[nan '1' 3 '2' '3' '9']\n"
     ]
    }
   ],
   "source": [
    "print(demo['DMDSCHOL'].unique())"
   ]
  },
  {
   "cell_type": "code",
   "execution_count": 21,
   "metadata": {},
   "outputs": [],
   "source": [
    "replace_dict = {'DMDSCHOL': {\n",
    "                              'Neither':3\n",
    "                            }\n",
    "               }\n",
    "\n",
    "demo.replace(replace_dict, inplace=True)"
   ]
  },
  {
   "cell_type": "code",
   "execution_count": 17,
   "metadata": {},
   "outputs": [
    {
     "name": "stdout",
     "output_type": "stream",
     "text": [
      "['Both Interviewed and MEC examined' 'Interviewed Only' nan]\n"
     ]
    }
   ],
   "source": [
    "print(demo['RIDSTATR'].unique())"
   ]
  },
  {
   "cell_type": "code",
   "execution_count": 18,
   "metadata": {},
   "outputs": [
    {
     "name": "stdout",
     "output_type": "stream",
     "text": [
      "[ 2.  1. nan]\n",
      "[ 2.  1. nan]\n"
     ]
    }
   ],
   "source": [
    "replace_dict = {'RIDSTATR': {\n",
    "                              'Interviewed Only':1, \n",
    "                              'Both Interviewed and MEC examined':2\n",
    "                            },\n",
    "                'RIAGENDR': {\n",
    "                              'Male':1, \n",
    "                              'Female':2\n",
    "                            }\n",
    "               }\n",
    "\n",
    "demo.replace(replace_dict, inplace=True)\n",
    "\n",
    "print(demo['RIDSTATR'].unique())\n",
    "print(demo['RIAGENDR'].unique())"
   ]
  },
  {
   "cell_type": "code",
   "execution_count": 16,
   "metadata": {},
   "outputs": [
    {
     "data": {
      "text/plain": [
       "RIDSTATR    float64\n",
       "RIAGENDR    float64\n",
       "dtype: object"
      ]
     },
     "execution_count": 16,
     "metadata": {},
     "output_type": "execute_result"
    }
   ],
   "source": [
    "demo.loc[:,['RIDSTATR', 'RIAGENDR']].dtypes"
   ]
  },
  {
   "cell_type": "code",
   "execution_count": 3,
   "metadata": {},
   "outputs": [
    {
     "name": "stdout",
     "output_type": "stream",
     "text": [
      "[ 4.  3.  5.  1.  2. nan]\n",
      "[ 1.  3.  2. nan  7.  9.]\n"
     ]
    }
   ],
   "source": [
    "replace_dict = {'RIDRETH1': {\n",
    "                              'Mexican American':1, \n",
    "                              'Other Hispanic':2,\n",
    "                              'Non-Hispanic White':3,\n",
    "                              'Non-Hispanic Black':4,\n",
    "                              'Other Race - Including Multi-Racial':5  \n",
    "                            },\n",
    "                'DMDBORN': {\n",
    "                              'Born in 50 US States or Washington, DC':1, \n",
    "                              'Born in Mexico':2,\n",
    "                              'Born Elsewhere':3,  \n",
    "                              'Refused':7,\n",
    "                              \"Don't know\":9\n",
    "                            }\n",
    "               }\n",
    "\n",
    "demo.replace(replace_dict, inplace=True)\n",
    "\n",
    "print(demo['RIDRETH1'].unique())\n",
    "print(demo['DMDBORN'].unique())"
   ]
  },
  {
   "cell_type": "code",
   "execution_count": 4,
   "metadata": {},
   "outputs": [
    {
     "data": {
      "text/plain": [
       "RIDRETH1    float64\n",
       "DMDBORN     float64\n",
       "dtype: object"
      ]
     },
     "execution_count": 4,
     "metadata": {},
     "output_type": "execute_result"
    }
   ],
   "source": [
    "demo.loc[:,['RIDRETH1', 'DMDBORN']].dtypes"
   ]
  },
  {
   "cell_type": "code",
   "execution_count": 9,
   "metadata": {},
   "outputs": [
    {
     "name": "stdout",
     "output_type": "stream",
     "text": [
      "[nan  2.  3.  6.  8.  4.  7.  9.  5.  1. 77. 99. 88.]\n",
      "[nan  3. 15.  5.  8. 13.  7. 11.  1.  9.  6.  0. 12. 10.  4.  2. 14. 66.\n",
      " 55. 77. 99.]\n"
     ]
    }
   ],
   "source": [
    "replace_dict = { #'DMDYRSUS': {\n",
    "#                               'Less than 1 year':1, \n",
    "#                               '1 yr., less than 5 yrs.':2,\n",
    "#                               '5 yrs., less than 10 yrs.':3,\n",
    "#                               '10 yrs., less than 15 yrs.':4,\n",
    "#                               '15 yrs., less than 20 yrs.':5,\n",
    "#                               '20 yrs., less than 30 yrs.':6, \n",
    "#                               '30 yrs., less than 40 yrs.':7,\n",
    "#                               '40 yrs., less than 50 yrs.':8,\n",
    "#                               '50 years or more':9,\n",
    "#                               'Refused':77,\n",
    "#                               'Could not determine':88,\n",
    "#                               \"Don't know\":99\n",
    "#                             },\n",
    "                'DMDEDUC3': {\n",
    "#                               'Never Attended / Kindergarten Only':0,\n",
    "#                               '1st Grade':1, \n",
    "#                               '2nd Grade':2,\n",
    "#                               '3rd Grade':3,\n",
    "#                               '4th Grade':4,\n",
    "#                               '5th Grade':5,\n",
    "#                               '6th Grade':6, \n",
    "#                               '7th Grade':7,\n",
    "#                               '8th Grade':8,\n",
    "#                               '9th Grade':9,\n",
    "#                               '10th Grade':10, \n",
    "#                               '11th Grade':11,\n",
    "                              '12th Grade, No Diploma':12,\n",
    "#                               'High School Graduate':13,\n",
    "#                               'GED or Equivalent':14,\n",
    "#                               'More than high school':15, \n",
    "#                               'Less Than 5th Grade':55,\n",
    "#                               'Less Than 9th Grade':66,\n",
    "#                               'Refused':77,\n",
    "#                               \"Don't know\":99\n",
    "                            }\n",
    "                }\n",
    "\n",
    "demo.replace(replace_dict, inplace=True)\n",
    "\n",
    "print(demo['DMDYRSUS'].unique())\n",
    "print(demo['DMDEDUC3'].unique())"
   ]
  },
  {
   "cell_type": "code",
   "execution_count": 12,
   "metadata": {},
   "outputs": [
    {
     "name": "stdout",
     "output_type": "stream",
     "text": [
      "[nan  5.  2.  3.  4.  1.  9.  7.]\n",
      "[nan 1 'Neither' 2 3 9]\n",
      "[nan  1.  5.  4.  3.  2.  6. 77. 99.]\n"
     ]
    }
   ],
   "source": [
    "replace_dict = {'DMDEDUC2': {\n",
    "#                               'Less Than 9th Grade':1, \n",
    "#                               '9-11th Grade (Includes 12th grade with no diploma)':2,\n",
    "#                               'High School Grad/GED or Equivalent':3,\n",
    "#                               'Some College or AA degree':4,\n",
    "#                               'College Graduate or above':5,\n",
    "#                               'Refused':7,\n",
    "                              \"Don't Know\":9\n",
    "                            },\n",
    "                'DMDSCHOL': {\n",
    "#                               'In school':1, \n",
    "#                               'On vacation from school (between grades)':2,\n",
    "#                               'Neither in school or on vacation from school (between grades)':3,\n",
    "#                               'Refused':7,\n",
    "                              \"Don't Know\":9\n",
    "                            },\n",
    "                'DMDMARTL': {\n",
    "#                               'Married':1, \n",
    "#                               'Widowed':2,\n",
    "#                               'Divorced':3,\n",
    "#                               'Separated':4, \n",
    "#                               'Never married':5,\n",
    "#                               'Living with partner':6,\n",
    "#                               'Refused':77,\n",
    "                              \"Don't Know\":99\n",
    "                            }\n",
    "               }\n",
    "\n",
    "demo.replace(replace_dict, inplace=True)\n",
    "\n",
    "print(demo['DMDEDUC2'].unique())\n",
    "print(demo['DMDSCHOL'].unique())\n",
    "print(demo['DMDMARTL'].unique())"
   ]
  },
  {
   "cell_type": "code",
   "execution_count": 11,
   "metadata": {},
   "outputs": [
    {
     "data": {
      "text/plain": [
       "DMDSCHOL\n",
       "1             2453\n",
       "2              645\n",
       "3               83\n",
       "Don't Know       2\n",
       "Neither        282\n",
       "dtype: int64"
      ]
     },
     "execution_count": 11,
     "metadata": {},
     "output_type": "execute_result"
    }
   ],
   "source": [
    "grouped = demo.groupby('DMDSCHOL')\n",
    "grouped.size()"
   ]
  },
  {
   "cell_type": "markdown",
   "metadata": {},
   "source": [
    "Save data files\n",
    "---"
   ]
  },
  {
   "cell_type": "code",
   "execution_count": 24,
   "metadata": {},
   "outputs": [],
   "source": [
    "demo.to_csv('Demographics.csv', index=False)"
   ]
  }
 ],
 "metadata": {
  "kernelspec": {
   "display_name": "Python 3",
   "language": "python",
   "name": "python3"
  },
  "language_info": {
   "codemirror_mode": {
    "name": "ipython",
    "version": 3
   },
   "file_extension": ".py",
   "mimetype": "text/x-python",
   "name": "python",
   "nbconvert_exporter": "python",
   "pygments_lexer": "ipython3",
   "version": "3.8.5"
  }
 },
 "nbformat": 4,
 "nbformat_minor": 2
}
