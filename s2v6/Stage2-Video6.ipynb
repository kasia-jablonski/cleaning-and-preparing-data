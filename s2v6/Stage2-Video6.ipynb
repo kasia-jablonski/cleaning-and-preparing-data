{
 "cells": [
  {
   "cell_type": "markdown",
   "metadata": {},
   "source": [
    "Import the Pandas and Numpy libraries and load in the data file\n",
    "---"
   ]
  },
  {
   "cell_type": "code",
   "execution_count": 1,
   "metadata": {},
   "outputs": [],
   "source": [
    "import pandas as pd\n",
    "import numpy as np\n",
    "\n",
    "demo = pd.read_csv('Demographics.csv')\n",
    "bmx = pd.read_csv('BodyMeasures.csv')\n",
    "ocq = pd.read_csv('Occupation.csv')"
   ]
  },
  {
   "cell_type": "markdown",
   "metadata": {},
   "source": [
    "Impossible Data - Continuous Values\n",
    "---\n",
    "\n",
    "BMXWT - weight in kg"
   ]
  },
  {
   "cell_type": "code",
   "execution_count": 2,
   "metadata": {},
   "outputs": [
    {
     "data": {
      "text/plain": [
       "count     9185.000000\n",
       "mean        67.506522\n",
       "std        282.389202\n",
       "min       -149.000000\n",
       "25%         39.100000\n",
       "50%         63.000000\n",
       "75%         79.700000\n",
       "max      12870.000000\n",
       "Name: BMXWT, dtype: float64"
      ]
     },
     "execution_count": 2,
     "metadata": {},
     "output_type": "execute_result"
    }
   ],
   "source": [
    "bmx['BMXWT'].describe()"
   ]
  },
  {
   "cell_type": "code",
   "execution_count": 3,
   "metadata": {},
   "outputs": [
    {
     "data": {
      "text/plain": [
       "count     9179.000000\n",
       "mean        67.606840\n",
       "std        282.452412\n",
       "min          3.100000\n",
       "25%         39.200000\n",
       "50%         63.000000\n",
       "75%         79.750000\n",
       "max      12870.000000\n",
       "Name: BMXWT, dtype: float64"
      ]
     },
     "execution_count": 3,
     "metadata": {},
     "output_type": "execute_result"
    }
   ],
   "source": [
    "ind = bmx['BMXWT'] < 0\n",
    "bmx.loc[ind,'BMXWT'] = np.nan\n",
    "bmx['BMXWT'].describe()"
   ]
  },
  {
   "cell_type": "markdown",
   "metadata": {},
   "source": [
    "Impossible Data - Categorical Values\n",
    "---\n",
    "BMIWT - Weight Comment ([codebook entry](https://wwwn.cdc.gov/Nchs/Nhanes/1999-2000/BMX.htm#BMIWT))\n",
    "\n",
    "\n",
    "|Code|Meaning|\n",
    "|:--- |:--- |\n",
    "|1|\tCould not obtain|\t\n",
    "|2|\tExceeds capacity|\t\n",
    "|3|\tClothing|\n",
    "|4|\tMedical appliance|"
   ]
  },
  {
   "cell_type": "code",
   "execution_count": 4,
   "metadata": {},
   "outputs": [
    {
     "data": {
      "text/plain": [
       "array([ 3., nan,  4.,  1., 11.,  7.])"
      ]
     },
     "execution_count": 4,
     "metadata": {},
     "output_type": "execute_result"
    }
   ],
   "source": [
    "bmx['BMIWT'].unique()"
   ]
  },
  {
   "cell_type": "code",
   "execution_count": 5,
   "metadata": {},
   "outputs": [
    {
     "data": {
      "text/plain": [
       "array([ 3., nan,  4.,  1.])"
      ]
     },
     "execution_count": 5,
     "metadata": {},
     "output_type": "execute_result"
    }
   ],
   "source": [
    "ind = bmx['BMIWT'] > 4\n",
    "bmx.loc[ind, 'BMIWT'] = np.nan\n",
    "bmx['BMIWT'].unique()"
   ]
  },
  {
   "cell_type": "markdown",
   "metadata": {},
   "source": [
    "Extreme Data\n",
    "---\n",
    "\n",
    "Heaviest human weight on record: 635 kg"
   ]
  },
  {
   "cell_type": "code",
   "execution_count": 6,
   "metadata": {},
   "outputs": [
    {
     "data": {
      "text/plain": [
       "count     9179.000000\n",
       "mean        67.606840\n",
       "std        282.452412\n",
       "min          3.100000\n",
       "25%         39.200000\n",
       "50%         63.000000\n",
       "75%         79.750000\n",
       "max      12870.000000\n",
       "Name: BMXWT, dtype: float64"
      ]
     },
     "execution_count": 6,
     "metadata": {},
     "output_type": "execute_result"
    }
   ],
   "source": [
    "bmx['BMXWT'].describe()"
   ]
  },
  {
   "cell_type": "code",
   "execution_count": 7,
   "metadata": {},
   "outputs": [
    {
     "data": {
      "text/plain": [
       "count    9170.000000\n",
       "mean       59.957381\n",
       "std        29.842889\n",
       "min         3.100000\n",
       "25%        39.200000\n",
       "50%        62.970000\n",
       "75%        79.600000\n",
       "max       193.300000\n",
       "Name: BMXWT, dtype: float64"
      ]
     },
     "execution_count": 7,
     "metadata": {},
     "output_type": "execute_result"
    }
   ],
   "source": [
    "ind = bmx['BMXWT'] > 635\n",
    "bmx.loc[ind,'BMXWT'] = np.nan\n",
    "bmx['BMXWT'].describe()"
   ]
  },
  {
   "cell_type": "code",
   "execution_count": 8,
   "metadata": {},
   "outputs": [
    {
     "name": "stdout",
     "output_type": "stream",
     "text": [
      "Max weight z-score: 4.468397485658741\n",
      "Min weight z-score: -1.9053276258294776\n"
     ]
    }
   ],
   "source": [
    "mean_wt = np.nanmean(bmx['BMXWT'])\n",
    "std_wt = np.nanstd(bmx['BMXWT'])\n",
    "\n",
    "min_wt = np.nanmin(bmx['BMXWT'])\n",
    "max_wt = np.nanmax(bmx['BMXWT'])\n",
    "\n",
    "low_wt_zscore = (min_wt - mean_wt)/std_wt\n",
    "high_wt_zscore = (max_wt - mean_wt)/std_wt\n",
    "\n",
    "print('Max weight z-score: ' + str(high_wt_zscore))\n",
    "print('Min weight z-score: ' + str(low_wt_zscore))"
   ]
  },
  {
   "cell_type": "markdown",
   "metadata": {},
   "source": [
    "Saturated Data\n",
    "---\n",
    "\n",
    "Survey instructions: list ages 85 and above as 85"
   ]
  },
  {
   "cell_type": "code",
   "execution_count": null,
   "metadata": {},
   "outputs": [],
   "source": [
    "np.nanmax(demo['RIDAGEYR'])"
   ]
  },
  {
   "cell_type": "code",
   "execution_count": 9,
   "metadata": {},
   "outputs": [],
   "source": [
    "ind = demo['RIDAGEYR'] > 85\n",
    "demo.loc[ind,'RIDAGEYR'] = 85"
   ]
  },
  {
   "cell_type": "markdown",
   "metadata": {},
   "source": [
    "Individual Practice\n",
    "---\n",
    "\n",
    "1. Find and remove any non-sensible categorical values in the occupation file\n",
    "    * Check OCQ130, OCQ140, OCQ150, OCQ160\n",
    "2. Find the z-score of the maximum and minimum values in the occupation column OCQ180 - Hours worked last week at all jobs ([see codebook for more information](https://wwwn.cdc.gov/Nchs/Nhanes/1999-2000/OCQ.htm#OCQ180))\n",
    "    * Exclude values 7777 and 9999\n"
   ]
  },
  {
   "cell_type": "code",
   "execution_count": 11,
   "metadata": {},
   "outputs": [
    {
     "data": {
      "text/plain": [
       "count    1316.000000\n",
       "mean        7.165653\n",
       "std         6.520391\n",
       "min         1.000000\n",
       "25%         7.000000\n",
       "50%         7.000000\n",
       "75%         7.000000\n",
       "max        99.000000\n",
       "Name: OCQ130, dtype: float64"
      ]
     },
     "execution_count": 11,
     "metadata": {},
     "output_type": "execute_result"
    }
   ],
   "source": [
    "ocq['OCQ130'].describe()"
   ]
  },
  {
   "cell_type": "code",
   "execution_count": 12,
   "metadata": {},
   "outputs": [
    {
     "data": {
      "text/plain": [
       "array([nan,  7.,  3.,  2.,  1.,  4.,  6.,  5., 38., 99., 21., 54., 68.,\n",
       "       29., 17., 58., 69., 48., 14., 34., 42.])"
      ]
     },
     "execution_count": 12,
     "metadata": {},
     "output_type": "execute_result"
    }
   ],
   "source": [
    "ocq['OCQ130'].unique()"
   ]
  },
  {
   "cell_type": "code",
   "execution_count": 13,
   "metadata": {},
   "outputs": [],
   "source": [
    "ind = ((ocq['OCQ130'] > 7) & (ocq['OCQ130'] < 77))\n"
   ]
  },
  {
   "cell_type": "code",
   "execution_count": 14,
   "metadata": {},
   "outputs": [
    {
     "data": {
      "text/plain": [
       "7749"
      ]
     },
     "execution_count": 14,
     "metadata": {},
     "output_type": "execute_result"
    }
   ],
   "source": [
    "len(ind)"
   ]
  },
  {
   "cell_type": "code",
   "execution_count": 16,
   "metadata": {},
   "outputs": [
    {
     "data": {
      "text/plain": [
       "876     38.0\n",
       "1912    21.0\n",
       "2769    54.0\n",
       "3235    68.0\n",
       "3943    29.0\n",
       "Name: OCQ130, dtype: float64"
      ]
     },
     "execution_count": 16,
     "metadata": {},
     "output_type": "execute_result"
    }
   ],
   "source": [
    "ocq.loc[ind, 'OCQ130'].head()"
   ]
  },
  {
   "cell_type": "code",
   "execution_count": 17,
   "metadata": {},
   "outputs": [],
   "source": [
    "ocq.loc[ind, 'OCQ130'] = np.nan"
   ]
  },
  {
   "cell_type": "code",
   "execution_count": 18,
   "metadata": {},
   "outputs": [
    {
     "data": {
      "text/plain": [
       "array([nan,  7.,  3.,  2.,  1.,  4.,  6.,  5., 99.])"
      ]
     },
     "execution_count": 18,
     "metadata": {},
     "output_type": "execute_result"
    }
   ],
   "source": [
    "ocq['OCQ130'].unique()"
   ]
  },
  {
   "cell_type": "code",
   "execution_count": 24,
   "metadata": {},
   "outputs": [
    {
     "data": {
      "text/plain": [
       "array([ 2.,  1.,  4., nan,  3., 66., 99., 44.,  7.,  9., 11.,  8., 33.,\n",
       "       77.])"
      ]
     },
     "execution_count": 24,
     "metadata": {},
     "output_type": "execute_result"
    }
   ],
   "source": [
    "ocq.loc[:,'OCQ150'].unique()"
   ]
  },
  {
   "cell_type": "code",
   "execution_count": 27,
   "metadata": {},
   "outputs": [],
   "source": [
    "index = ocq['OCQ150']>9\n",
    "ocq.loc[index, 'OCQ150'] = np.nan"
   ]
  },
  {
   "cell_type": "code",
   "execution_count": 28,
   "metadata": {},
   "outputs": [
    {
     "data": {
      "text/plain": [
       "array([ 2.,  1.,  4., nan,  3.,  7.,  9.,  8.])"
      ]
     },
     "execution_count": 28,
     "metadata": {},
     "output_type": "execute_result"
    }
   ],
   "source": [
    "ocq.loc[:,'OCQ150'].unique()"
   ]
  },
  {
   "cell_type": "code",
   "execution_count": 29,
   "metadata": {},
   "outputs": [
    {
     "data": {
      "text/plain": [
       "count    6269.000000\n",
       "mean        2.447121\n",
       "std         1.481740\n",
       "min         1.000000\n",
       "25%         1.000000\n",
       "50%         2.000000\n",
       "75%         4.000000\n",
       "max         9.000000\n",
       "Name: OCQ150, dtype: float64"
      ]
     },
     "execution_count": 29,
     "metadata": {},
     "output_type": "execute_result"
    }
   ],
   "source": [
    "ocq['OCQ150'].describe()"
   ]
  },
  {
   "cell_type": "code",
   "execution_count": 30,
   "metadata": {},
   "outputs": [
    {
     "data": {
      "text/plain": [
       "count    293.000000\n",
       "mean       2.085324\n",
       "std        1.304454\n",
       "min        1.000000\n",
       "25%        2.000000\n",
       "50%        2.000000\n",
       "75%        2.000000\n",
       "max        9.000000\n",
       "Name: OCQ160, dtype: float64"
      ]
     },
     "execution_count": 30,
     "metadata": {},
     "output_type": "execute_result"
    }
   ],
   "source": [
    "ocq['OCQ160'].describe()"
   ]
  },
  {
   "cell_type": "code",
   "execution_count": 32,
   "metadata": {},
   "outputs": [
    {
     "data": {
      "text/plain": [
       "array([ 2., nan,  1.,  7.,  9.])"
      ]
     },
     "execution_count": 32,
     "metadata": {},
     "output_type": "execute_result"
    }
   ],
   "source": [
    "ocq['OCQ160'].unique()"
   ]
  },
  {
   "cell_type": "markdown",
   "metadata": {},
   "source": [
    "2. Find the z-score of the maximum and minimum values in the occupation column OCQ180 - Hours worked last week at all jobs ([see codebook for more information](https://wwwn.cdc.gov/Nchs/Nhanes/1999-2000/OCQ.htm#OCQ180))\n",
    "    * Exclude values 7777 and 9999"
   ]
  },
  {
   "cell_type": "code",
   "execution_count": 37,
   "metadata": {},
   "outputs": [],
   "source": [
    "a = ocq['OCQ180'] > 105"
   ]
  },
  {
   "cell_type": "code",
   "execution_count": 38,
   "metadata": {},
   "outputs": [],
   "source": [
    "ocq.loc[a, 'OCQ180'] = np.nan"
   ]
  },
  {
   "cell_type": "code",
   "execution_count": 39,
   "metadata": {},
   "outputs": [
    {
     "data": {
      "text/plain": [
       "array([ nan,  40.,  45.,  53.,   4.,  32.,   6.,  60.,  35.,  27.,  38.,\n",
       "        20.,  50.,  55.,  30.,  12.,  48.,  58.,  16.,  46.,  42.,  36.,\n",
       "         3.,  10.,   8.,  54.,  75.,  24.,  43.,  44.,  47.,  49.,  25.,\n",
       "        80.,  70.,  17.,  96.,  15.,  65.,  57.,  63.,  14.,  37.,  26.,\n",
       "        91.,  39.,  23.,  34.,  13.,  22.,  18.,   1.,  52.,  21.,  33.,\n",
       "         5., 104.,  28.,  56.,  31.,  67.,   7.,  41.,  62.,   2.,  29.,\n",
       "        66.,  59.,  82.,  64.,  79., 105.,  84.,  19.,  72.,   9.,  77.,\n",
       "        68.,  85., 100.,  51.,  61.,  78.,  86.,  88.,  11.,  90.,  76.])"
      ]
     },
     "execution_count": 39,
     "metadata": {},
     "output_type": "execute_result"
    }
   ],
   "source": [
    "ocq['OCQ180'].unique()"
   ]
  },
  {
   "cell_type": "code",
   "execution_count": 40,
   "metadata": {},
   "outputs": [
    {
     "name": "stdout",
     "output_type": "stream",
     "text": [
      "Max hours z-score: 4.3764058992483355\n",
      "Min hours z-score: -2.527646800029202\n"
     ]
    }
   ],
   "source": [
    "mean = np.nanmean(ocq['OCQ180'])\n",
    "std = np.nanstd(ocq['OCQ180'])\n",
    "\n",
    "min = np.nanmin(ocq['OCQ180'])\n",
    "max = np.nanmax(ocq['OCQ180'])\n",
    "\n",
    "low_zscore = (min - mean)/std\n",
    "high_zscore = (max - mean)/std\n",
    "\n",
    "print('Max hours z-score: ' + str(high_zscore))\n",
    "print('Min hours z-score: ' + str(low_zscore))"
   ]
  },
  {
   "cell_type": "markdown",
   "metadata": {},
   "source": [
    "Save The Data\n",
    "---"
   ]
  },
  {
   "cell_type": "code",
   "execution_count": null,
   "metadata": {
    "collapsed": true
   },
   "outputs": [],
   "source": [
    "# demo.to_csv('Demographics.csv', index=False)\n",
    "# bmx.to_csv('BodyMeasures.csv', index=False)\n",
    "# ocq.to_csv('Occupation.csv', index=False)"
   ]
  }
 ],
 "metadata": {
  "kernelspec": {
   "display_name": "Python 3",
   "language": "python",
   "name": "python3"
  },
  "language_info": {
   "codemirror_mode": {
    "name": "ipython",
    "version": 3
   },
   "file_extension": ".py",
   "mimetype": "text/x-python",
   "name": "python",
   "nbconvert_exporter": "python",
   "pygments_lexer": "ipython3",
   "version": "3.8.5"
  }
 },
 "nbformat": 4,
 "nbformat_minor": 2
}
