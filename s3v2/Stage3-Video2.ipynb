{
 "cells": [
  {
   "cell_type": "markdown",
   "metadata": {},
   "source": [
    "Import the Pandas and Numpy libraries and load in the data file\n",
    "---"
   ]
  },
  {
   "cell_type": "code",
   "execution_count": 11,
   "metadata": {},
   "outputs": [],
   "source": [
    "import pandas as pd\n",
    "import numpy as np\n",
    "\n",
    "demo = pd.read_csv('Demographics.csv')"
   ]
  },
  {
   "cell_type": "markdown",
   "metadata": {
    "slideshow": {
     "slide_type": "notes"
    }
   },
   "source": [
    "Merge the two education columns\n",
    "---\n",
    "\n",
    "New Education Coding:\n",
    "\n",
    "| Code | Meaning |\n",
    "|---|---|\n",
    "| 1 | Less Than High School |\n",
    "| 2 | High School Diploma (including GED) |\n",
    "| 3 | More Than High School |\n",
    "| 7 | Refused |\n",
    "| 9 | Don't know |"
   ]
  },
  {
   "cell_type": "code",
   "execution_count": 12,
   "metadata": {},
   "outputs": [
    {
     "data": {
      "text/plain": [
       "DMDEDUC3    float64\n",
       "dtype: object"
      ]
     },
     "execution_count": 12,
     "metadata": {},
     "output_type": "execute_result"
    }
   ],
   "source": [
    "demo.loc[:,['DMDEDUC3']].dtypes"
   ]
  },
  {
   "cell_type": "code",
   "execution_count": 13,
   "metadata": {},
   "outputs": [
    {
     "data": {
      "text/plain": [
       "array([nan,  3., 15.,  5.,  8., 13.,  7., 11.,  1.,  9.,  6.,  0., 12.,\n",
       "       10.,  4.,  2., 14., 66., 55., 77., 99.])"
      ]
     },
     "execution_count": 13,
     "metadata": {},
     "output_type": "execute_result"
    }
   ],
   "source": [
    "demo['DMDEDUC3'].unique()"
   ]
  },
  {
   "cell_type": "code",
   "execution_count": 9,
   "metadata": {
    "scrolled": true
   },
   "outputs": [
    {
     "ename": "ValueError",
     "evalue": "could not convert string to float: '3rd Grade'",
     "output_type": "error",
     "traceback": [
      "\u001b[1;31m---------------------------------------------------------------------------\u001b[0m",
      "\u001b[1;31mValueError\u001b[0m                                Traceback (most recent call last)",
      "\u001b[1;32m<ipython-input-9-7e99efeb7d65>\u001b[0m in \u001b[0;36m<module>\u001b[1;34m\u001b[0m\n\u001b[1;32m----> 1\u001b[1;33m \u001b[0mdemo\u001b[0m\u001b[1;33m[\u001b[0m\u001b[1;34m'DMDEDUC3'\u001b[0m\u001b[1;33m]\u001b[0m \u001b[1;33m=\u001b[0m \u001b[0mdemo\u001b[0m\u001b[1;33m[\u001b[0m\u001b[1;34m'DMDEDUC3'\u001b[0m\u001b[1;33m]\u001b[0m\u001b[1;33m.\u001b[0m\u001b[0mastype\u001b[0m\u001b[1;33m(\u001b[0m\u001b[0mnp\u001b[0m\u001b[1;33m.\u001b[0m\u001b[0mfloat64\u001b[0m\u001b[1;33m)\u001b[0m\u001b[1;33m\u001b[0m\u001b[1;33m\u001b[0m\u001b[0m\n\u001b[0m",
      "\u001b[1;32mC:\\ProgramData\\Anaconda3\\lib\\site-packages\\pandas\\core\\generic.py\u001b[0m in \u001b[0;36mastype\u001b[1;34m(self, dtype, copy, errors)\u001b[0m\n\u001b[0;32m   5544\u001b[0m         \u001b[1;32melse\u001b[0m\u001b[1;33m:\u001b[0m\u001b[1;33m\u001b[0m\u001b[1;33m\u001b[0m\u001b[0m\n\u001b[0;32m   5545\u001b[0m             \u001b[1;31m# else, only a single dtype is given\u001b[0m\u001b[1;33m\u001b[0m\u001b[1;33m\u001b[0m\u001b[1;33m\u001b[0m\u001b[0m\n\u001b[1;32m-> 5546\u001b[1;33m             \u001b[0mnew_data\u001b[0m \u001b[1;33m=\u001b[0m \u001b[0mself\u001b[0m\u001b[1;33m.\u001b[0m\u001b[0m_mgr\u001b[0m\u001b[1;33m.\u001b[0m\u001b[0mastype\u001b[0m\u001b[1;33m(\u001b[0m\u001b[0mdtype\u001b[0m\u001b[1;33m=\u001b[0m\u001b[0mdtype\u001b[0m\u001b[1;33m,\u001b[0m \u001b[0mcopy\u001b[0m\u001b[1;33m=\u001b[0m\u001b[0mcopy\u001b[0m\u001b[1;33m,\u001b[0m \u001b[0merrors\u001b[0m\u001b[1;33m=\u001b[0m\u001b[0merrors\u001b[0m\u001b[1;33m,\u001b[0m\u001b[1;33m)\u001b[0m\u001b[1;33m\u001b[0m\u001b[1;33m\u001b[0m\u001b[0m\n\u001b[0m\u001b[0;32m   5547\u001b[0m             \u001b[1;32mreturn\u001b[0m \u001b[0mself\u001b[0m\u001b[1;33m.\u001b[0m\u001b[0m_constructor\u001b[0m\u001b[1;33m(\u001b[0m\u001b[0mnew_data\u001b[0m\u001b[1;33m)\u001b[0m\u001b[1;33m.\u001b[0m\u001b[0m__finalize__\u001b[0m\u001b[1;33m(\u001b[0m\u001b[0mself\u001b[0m\u001b[1;33m,\u001b[0m \u001b[0mmethod\u001b[0m\u001b[1;33m=\u001b[0m\u001b[1;34m\"astype\"\u001b[0m\u001b[1;33m)\u001b[0m\u001b[1;33m\u001b[0m\u001b[1;33m\u001b[0m\u001b[0m\n\u001b[0;32m   5548\u001b[0m \u001b[1;33m\u001b[0m\u001b[0m\n",
      "\u001b[1;32mC:\\ProgramData\\Anaconda3\\lib\\site-packages\\pandas\\core\\internals\\managers.py\u001b[0m in \u001b[0;36mastype\u001b[1;34m(self, dtype, copy, errors)\u001b[0m\n\u001b[0;32m    593\u001b[0m         \u001b[0mself\u001b[0m\u001b[1;33m,\u001b[0m \u001b[0mdtype\u001b[0m\u001b[1;33m,\u001b[0m \u001b[0mcopy\u001b[0m\u001b[1;33m:\u001b[0m \u001b[0mbool\u001b[0m \u001b[1;33m=\u001b[0m \u001b[1;32mFalse\u001b[0m\u001b[1;33m,\u001b[0m \u001b[0merrors\u001b[0m\u001b[1;33m:\u001b[0m \u001b[0mstr\u001b[0m \u001b[1;33m=\u001b[0m \u001b[1;34m\"raise\"\u001b[0m\u001b[1;33m\u001b[0m\u001b[1;33m\u001b[0m\u001b[0m\n\u001b[0;32m    594\u001b[0m     ) -> \"BlockManager\":\n\u001b[1;32m--> 595\u001b[1;33m         \u001b[1;32mreturn\u001b[0m \u001b[0mself\u001b[0m\u001b[1;33m.\u001b[0m\u001b[0mapply\u001b[0m\u001b[1;33m(\u001b[0m\u001b[1;34m\"astype\"\u001b[0m\u001b[1;33m,\u001b[0m \u001b[0mdtype\u001b[0m\u001b[1;33m=\u001b[0m\u001b[0mdtype\u001b[0m\u001b[1;33m,\u001b[0m \u001b[0mcopy\u001b[0m\u001b[1;33m=\u001b[0m\u001b[0mcopy\u001b[0m\u001b[1;33m,\u001b[0m \u001b[0merrors\u001b[0m\u001b[1;33m=\u001b[0m\u001b[0merrors\u001b[0m\u001b[1;33m)\u001b[0m\u001b[1;33m\u001b[0m\u001b[1;33m\u001b[0m\u001b[0m\n\u001b[0m\u001b[0;32m    596\u001b[0m \u001b[1;33m\u001b[0m\u001b[0m\n\u001b[0;32m    597\u001b[0m     def convert(\n",
      "\u001b[1;32mC:\\ProgramData\\Anaconda3\\lib\\site-packages\\pandas\\core\\internals\\managers.py\u001b[0m in \u001b[0;36mapply\u001b[1;34m(self, f, align_keys, **kwargs)\u001b[0m\n\u001b[0;32m    404\u001b[0m                 \u001b[0mapplied\u001b[0m \u001b[1;33m=\u001b[0m \u001b[0mb\u001b[0m\u001b[1;33m.\u001b[0m\u001b[0mapply\u001b[0m\u001b[1;33m(\u001b[0m\u001b[0mf\u001b[0m\u001b[1;33m,\u001b[0m \u001b[1;33m**\u001b[0m\u001b[0mkwargs\u001b[0m\u001b[1;33m)\u001b[0m\u001b[1;33m\u001b[0m\u001b[1;33m\u001b[0m\u001b[0m\n\u001b[0;32m    405\u001b[0m             \u001b[1;32melse\u001b[0m\u001b[1;33m:\u001b[0m\u001b[1;33m\u001b[0m\u001b[1;33m\u001b[0m\u001b[0m\n\u001b[1;32m--> 406\u001b[1;33m                 \u001b[0mapplied\u001b[0m \u001b[1;33m=\u001b[0m \u001b[0mgetattr\u001b[0m\u001b[1;33m(\u001b[0m\u001b[0mb\u001b[0m\u001b[1;33m,\u001b[0m \u001b[0mf\u001b[0m\u001b[1;33m)\u001b[0m\u001b[1;33m(\u001b[0m\u001b[1;33m**\u001b[0m\u001b[0mkwargs\u001b[0m\u001b[1;33m)\u001b[0m\u001b[1;33m\u001b[0m\u001b[1;33m\u001b[0m\u001b[0m\n\u001b[0m\u001b[0;32m    407\u001b[0m             \u001b[0mresult_blocks\u001b[0m \u001b[1;33m=\u001b[0m \u001b[0m_extend_blocks\u001b[0m\u001b[1;33m(\u001b[0m\u001b[0mapplied\u001b[0m\u001b[1;33m,\u001b[0m \u001b[0mresult_blocks\u001b[0m\u001b[1;33m)\u001b[0m\u001b[1;33m\u001b[0m\u001b[1;33m\u001b[0m\u001b[0m\n\u001b[0;32m    408\u001b[0m \u001b[1;33m\u001b[0m\u001b[0m\n",
      "\u001b[1;32mC:\\ProgramData\\Anaconda3\\lib\\site-packages\\pandas\\core\\internals\\blocks.py\u001b[0m in \u001b[0;36mastype\u001b[1;34m(self, dtype, copy, errors)\u001b[0m\n\u001b[0;32m    593\u001b[0m             \u001b[0mvals1d\u001b[0m \u001b[1;33m=\u001b[0m \u001b[0mvalues\u001b[0m\u001b[1;33m.\u001b[0m\u001b[0mravel\u001b[0m\u001b[1;33m(\u001b[0m\u001b[1;33m)\u001b[0m\u001b[1;33m\u001b[0m\u001b[1;33m\u001b[0m\u001b[0m\n\u001b[0;32m    594\u001b[0m             \u001b[1;32mtry\u001b[0m\u001b[1;33m:\u001b[0m\u001b[1;33m\u001b[0m\u001b[1;33m\u001b[0m\u001b[0m\n\u001b[1;32m--> 595\u001b[1;33m                 \u001b[0mvalues\u001b[0m \u001b[1;33m=\u001b[0m \u001b[0mastype_nansafe\u001b[0m\u001b[1;33m(\u001b[0m\u001b[0mvals1d\u001b[0m\u001b[1;33m,\u001b[0m \u001b[0mdtype\u001b[0m\u001b[1;33m,\u001b[0m \u001b[0mcopy\u001b[0m\u001b[1;33m=\u001b[0m\u001b[1;32mTrue\u001b[0m\u001b[1;33m)\u001b[0m\u001b[1;33m\u001b[0m\u001b[1;33m\u001b[0m\u001b[0m\n\u001b[0m\u001b[0;32m    596\u001b[0m             \u001b[1;32mexcept\u001b[0m \u001b[1;33m(\u001b[0m\u001b[0mValueError\u001b[0m\u001b[1;33m,\u001b[0m \u001b[0mTypeError\u001b[0m\u001b[1;33m)\u001b[0m\u001b[1;33m:\u001b[0m\u001b[1;33m\u001b[0m\u001b[1;33m\u001b[0m\u001b[0m\n\u001b[0;32m    597\u001b[0m                 \u001b[1;31m# e.g. astype_nansafe can fail on object-dtype of strings\u001b[0m\u001b[1;33m\u001b[0m\u001b[1;33m\u001b[0m\u001b[1;33m\u001b[0m\u001b[0m\n",
      "\u001b[1;32mC:\\ProgramData\\Anaconda3\\lib\\site-packages\\pandas\\core\\dtypes\\cast.py\u001b[0m in \u001b[0;36mastype_nansafe\u001b[1;34m(arr, dtype, copy, skipna)\u001b[0m\n\u001b[0;32m    993\u001b[0m     \u001b[1;32mif\u001b[0m \u001b[0mcopy\u001b[0m \u001b[1;32mor\u001b[0m \u001b[0mis_object_dtype\u001b[0m\u001b[1;33m(\u001b[0m\u001b[0marr\u001b[0m\u001b[1;33m)\u001b[0m \u001b[1;32mor\u001b[0m \u001b[0mis_object_dtype\u001b[0m\u001b[1;33m(\u001b[0m\u001b[0mdtype\u001b[0m\u001b[1;33m)\u001b[0m\u001b[1;33m:\u001b[0m\u001b[1;33m\u001b[0m\u001b[1;33m\u001b[0m\u001b[0m\n\u001b[0;32m    994\u001b[0m         \u001b[1;31m# Explicit copy, or required since NumPy can't view from / to object.\u001b[0m\u001b[1;33m\u001b[0m\u001b[1;33m\u001b[0m\u001b[1;33m\u001b[0m\u001b[0m\n\u001b[1;32m--> 995\u001b[1;33m         \u001b[1;32mreturn\u001b[0m \u001b[0marr\u001b[0m\u001b[1;33m.\u001b[0m\u001b[0mastype\u001b[0m\u001b[1;33m(\u001b[0m\u001b[0mdtype\u001b[0m\u001b[1;33m,\u001b[0m \u001b[0mcopy\u001b[0m\u001b[1;33m=\u001b[0m\u001b[1;32mTrue\u001b[0m\u001b[1;33m)\u001b[0m\u001b[1;33m\u001b[0m\u001b[1;33m\u001b[0m\u001b[0m\n\u001b[0m\u001b[0;32m    996\u001b[0m \u001b[1;33m\u001b[0m\u001b[0m\n\u001b[0;32m    997\u001b[0m     \u001b[1;32mreturn\u001b[0m \u001b[0marr\u001b[0m\u001b[1;33m.\u001b[0m\u001b[0mview\u001b[0m\u001b[1;33m(\u001b[0m\u001b[0mdtype\u001b[0m\u001b[1;33m)\u001b[0m\u001b[1;33m\u001b[0m\u001b[1;33m\u001b[0m\u001b[0m\n",
      "\u001b[1;31mValueError\u001b[0m: could not convert string to float: '3rd Grade'"
     ]
    }
   ],
   "source": [
    "demo['DMDEDUC3'] = demo['DMDEDUC3'].astype(np.float64)"
   ]
  },
  {
   "cell_type": "code",
   "execution_count": 14,
   "metadata": {
    "slideshow": {
     "slide_type": "-"
    }
   },
   "outputs": [],
   "source": [
    "demo.loc[:,'EDUCATION'] = np.nan\n",
    "\n",
    "index = (demo['DMDEDUC3'] < 13) | (demo['DMDEDUC3'] == 55) | (demo['DMDEDUC3'] == 66)\n",
    "demo.loc[index, 'EDUCATION'] = 1\n",
    "\n",
    "index = (demo['DMDEDUC3'] == 13) | (demo['DMDEDUC3'] == 14) \n",
    "demo.loc[index, 'EDUCATION'] = 2\n",
    "\n",
    "index = (demo['DMDEDUC3'] == 15)\n",
    "demo.loc[index, 'EDUCATION'] = 3\n",
    "\n",
    "index = (demo['DMDEDUC3'] == 77)\n",
    "demo.loc[index, 'EDUCATION'] = 7\n",
    "\n",
    "index = (demo['DMDEDUC3'] == 99)\n",
    "demo.loc[index, 'EDUCATION'] = 9"
   ]
  },
  {
   "cell_type": "code",
   "execution_count": 15,
   "metadata": {},
   "outputs": [],
   "source": [
    "index = (demo['DMDEDUC2'] <= 2)\n",
    "demo.loc[index, 'EDUCATION'] = 1\n",
    "\n",
    "index = (demo['DMDEDUC2'] == 3)\n",
    "demo.loc[index, 'EDUCATION'] = 2\n",
    "\n",
    "index = (demo['DMDEDUC2'] == 4) | (demo['DMDEDUC2'] == 5)\n",
    "demo.loc[index, 'EDUCATION'] = 3\n",
    "\n",
    "index = (demo['DMDEDUC2'] == 7)\n",
    "demo.loc[index, 'EDUCATION'] = 7\n",
    "\n",
    "index = (demo['DMDEDUC2'] == 9)\n",
    "demo.loc[index, 'EDUCATION'] = 9"
   ]
  },
  {
   "cell_type": "code",
   "execution_count": 16,
   "metadata": {},
   "outputs": [
    {
     "data": {
      "text/html": [
       "<div>\n",
       "<style scoped>\n",
       "    .dataframe tbody tr th:only-of-type {\n",
       "        vertical-align: middle;\n",
       "    }\n",
       "\n",
       "    .dataframe tbody tr th {\n",
       "        vertical-align: top;\n",
       "    }\n",
       "\n",
       "    .dataframe thead th {\n",
       "        text-align: right;\n",
       "    }\n",
       "</style>\n",
       "<table border=\"1\" class=\"dataframe\">\n",
       "  <thead>\n",
       "    <tr style=\"text-align: right;\">\n",
       "      <th></th>\n",
       "      <th>SEQN</th>\n",
       "      <th>SDDSRVYR</th>\n",
       "      <th>RIDSTATR</th>\n",
       "      <th>RIDEXMON</th>\n",
       "      <th>RIAGENDR</th>\n",
       "      <th>RIDAGEYR</th>\n",
       "      <th>RIDAGEMN</th>\n",
       "      <th>RIDAGEEX</th>\n",
       "      <th>RIDRETH1</th>\n",
       "      <th>RIDRETH2</th>\n",
       "      <th>...</th>\n",
       "      <th>WTIREP44</th>\n",
       "      <th>WTIREP45</th>\n",
       "      <th>WTIREP46</th>\n",
       "      <th>WTIREP47</th>\n",
       "      <th>WTIREP48</th>\n",
       "      <th>WTIREP49</th>\n",
       "      <th>WTIREP50</th>\n",
       "      <th>WTIREP51</th>\n",
       "      <th>WTIREP52</th>\n",
       "      <th>EDUCATION</th>\n",
       "    </tr>\n",
       "  </thead>\n",
       "  <tbody>\n",
       "    <tr>\n",
       "      <th>count</th>\n",
       "      <td>10586.000000</td>\n",
       "      <td>10375.0</td>\n",
       "      <td>10377.000000</td>\n",
       "      <td>9666.000000</td>\n",
       "      <td>10375.000000</td>\n",
       "      <td>10377.000000</td>\n",
       "      <td>10199.000000</td>\n",
       "      <td>9523.000000</td>\n",
       "      <td>10377.000000</td>\n",
       "      <td>10378.000000</td>\n",
       "      <td>...</td>\n",
       "      <td>10375.000000</td>\n",
       "      <td>10375.000000</td>\n",
       "      <td>10375.000000</td>\n",
       "      <td>10375.000000</td>\n",
       "      <td>10375.000000</td>\n",
       "      <td>10375.000000</td>\n",
       "      <td>10378.000000</td>\n",
       "      <td>10378.000000</td>\n",
       "      <td>10378.000000</td>\n",
       "      <td>8757.000000</td>\n",
       "    </tr>\n",
       "    <tr>\n",
       "      <th>mean</th>\n",
       "      <td>4988.601833</td>\n",
       "      <td>1.0</td>\n",
       "      <td>1.930616</td>\n",
       "      <td>1.578316</td>\n",
       "      <td>1.510169</td>\n",
       "      <td>29.701262</td>\n",
       "      <td>350.151289</td>\n",
       "      <td>345.017957</td>\n",
       "      <td>2.565385</td>\n",
       "      <td>2.238293</td>\n",
       "      <td>...</td>\n",
       "      <td>27262.634781</td>\n",
       "      <td>27254.050699</td>\n",
       "      <td>27292.018643</td>\n",
       "      <td>27332.732228</td>\n",
       "      <td>27294.538724</td>\n",
       "      <td>27289.947031</td>\n",
       "      <td>27316.319076</td>\n",
       "      <td>27309.103507</td>\n",
       "      <td>27275.031006</td>\n",
       "      <td>1.645541</td>\n",
       "    </tr>\n",
       "    <tr>\n",
       "      <th>std</th>\n",
       "      <td>2881.766130</td>\n",
       "      <td>0.0</td>\n",
       "      <td>0.254119</td>\n",
       "      <td>0.493854</td>\n",
       "      <td>0.499921</td>\n",
       "      <td>24.894062</td>\n",
       "      <td>286.460814</td>\n",
       "      <td>282.898586</td>\n",
       "      <td>1.268194</td>\n",
       "      <td>1.134821</td>\n",
       "      <td>...</td>\n",
       "      <td>30532.200228</td>\n",
       "      <td>30965.248224</td>\n",
       "      <td>30773.201867</td>\n",
       "      <td>30704.771626</td>\n",
       "      <td>30126.873213</td>\n",
       "      <td>30333.994776</td>\n",
       "      <td>30382.665279</td>\n",
       "      <td>30833.111259</td>\n",
       "      <td>30440.720487</td>\n",
       "      <td>0.916061</td>\n",
       "    </tr>\n",
       "    <tr>\n",
       "      <th>min</th>\n",
       "      <td>1.000000</td>\n",
       "      <td>1.0</td>\n",
       "      <td>1.000000</td>\n",
       "      <td>1.000000</td>\n",
       "      <td>1.000000</td>\n",
       "      <td>-69.000000</td>\n",
       "      <td>0.000000</td>\n",
       "      <td>0.000000</td>\n",
       "      <td>1.000000</td>\n",
       "      <td>1.000000</td>\n",
       "      <td>...</td>\n",
       "      <td>0.000000</td>\n",
       "      <td>0.000000</td>\n",
       "      <td>0.000000</td>\n",
       "      <td>0.000000</td>\n",
       "      <td>0.000000</td>\n",
       "      <td>0.000000</td>\n",
       "      <td>0.000000</td>\n",
       "      <td>0.000000</td>\n",
       "      <td>0.000000</td>\n",
       "      <td>1.000000</td>\n",
       "    </tr>\n",
       "    <tr>\n",
       "      <th>25%</th>\n",
       "      <td>2490.250000</td>\n",
       "      <td>1.0</td>\n",
       "      <td>2.000000</td>\n",
       "      <td>1.000000</td>\n",
       "      <td>1.000000</td>\n",
       "      <td>11.000000</td>\n",
       "      <td>130.000000</td>\n",
       "      <td>129.000000</td>\n",
       "      <td>1.000000</td>\n",
       "      <td>1.000000</td>\n",
       "      <td>...</td>\n",
       "      <td>5825.399910</td>\n",
       "      <td>5735.609230</td>\n",
       "      <td>5803.552459</td>\n",
       "      <td>5823.602951</td>\n",
       "      <td>5984.731946</td>\n",
       "      <td>5887.112966</td>\n",
       "      <td>5908.787800</td>\n",
       "      <td>5812.202275</td>\n",
       "      <td>5791.221946</td>\n",
       "      <td>1.000000</td>\n",
       "    </tr>\n",
       "    <tr>\n",
       "      <th>50%</th>\n",
       "      <td>4987.000000</td>\n",
       "      <td>1.0</td>\n",
       "      <td>2.000000</td>\n",
       "      <td>2.000000</td>\n",
       "      <td>2.000000</td>\n",
       "      <td>19.000000</td>\n",
       "      <td>231.000000</td>\n",
       "      <td>229.000000</td>\n",
       "      <td>3.000000</td>\n",
       "      <td>2.000000</td>\n",
       "      <td>...</td>\n",
       "      <td>13125.056383</td>\n",
       "      <td>12602.772205</td>\n",
       "      <td>13053.877621</td>\n",
       "      <td>13179.998615</td>\n",
       "      <td>13405.471918</td>\n",
       "      <td>13272.273365</td>\n",
       "      <td>13479.283290</td>\n",
       "      <td>13078.262881</td>\n",
       "      <td>13483.749560</td>\n",
       "      <td>1.000000</td>\n",
       "    </tr>\n",
       "    <tr>\n",
       "      <th>75%</th>\n",
       "      <td>7490.750000</td>\n",
       "      <td>1.0</td>\n",
       "      <td>2.000000</td>\n",
       "      <td>2.000000</td>\n",
       "      <td>2.000000</td>\n",
       "      <td>48.000000</td>\n",
       "      <td>560.500000</td>\n",
       "      <td>549.000000</td>\n",
       "      <td>4.000000</td>\n",
       "      <td>3.000000</td>\n",
       "      <td>...</td>\n",
       "      <td>39342.944279</td>\n",
       "      <td>39951.418727</td>\n",
       "      <td>39771.643664</td>\n",
       "      <td>39839.701043</td>\n",
       "      <td>39474.064714</td>\n",
       "      <td>39883.193311</td>\n",
       "      <td>39115.824760</td>\n",
       "      <td>39386.954612</td>\n",
       "      <td>39786.020191</td>\n",
       "      <td>2.000000</td>\n",
       "    </tr>\n",
       "    <tr>\n",
       "      <th>max</th>\n",
       "      <td>9965.000000</td>\n",
       "      <td>1.0</td>\n",
       "      <td>2.000000</td>\n",
       "      <td>2.000000</td>\n",
       "      <td>2.000000</td>\n",
       "      <td>109.000000</td>\n",
       "      <td>1019.000000</td>\n",
       "      <td>1019.000000</td>\n",
       "      <td>5.000000</td>\n",
       "      <td>5.000000</td>\n",
       "      <td>...</td>\n",
       "      <td>237571.751507</td>\n",
       "      <td>235750.381473</td>\n",
       "      <td>241834.327204</td>\n",
       "      <td>232738.992025</td>\n",
       "      <td>237147.546794</td>\n",
       "      <td>237076.103694</td>\n",
       "      <td>238360.240849</td>\n",
       "      <td>236648.979858</td>\n",
       "      <td>236964.160656</td>\n",
       "      <td>9.000000</td>\n",
       "    </tr>\n",
       "  </tbody>\n",
       "</table>\n",
       "<p>8 rows × 143 columns</p>\n",
       "</div>"
      ],
      "text/plain": [
       "               SEQN  SDDSRVYR      RIDSTATR     RIDEXMON      RIAGENDR  \\\n",
       "count  10586.000000   10375.0  10377.000000  9666.000000  10375.000000   \n",
       "mean    4988.601833       1.0      1.930616     1.578316      1.510169   \n",
       "std     2881.766130       0.0      0.254119     0.493854      0.499921   \n",
       "min        1.000000       1.0      1.000000     1.000000      1.000000   \n",
       "25%     2490.250000       1.0      2.000000     1.000000      1.000000   \n",
       "50%     4987.000000       1.0      2.000000     2.000000      2.000000   \n",
       "75%     7490.750000       1.0      2.000000     2.000000      2.000000   \n",
       "max     9965.000000       1.0      2.000000     2.000000      2.000000   \n",
       "\n",
       "           RIDAGEYR      RIDAGEMN     RIDAGEEX      RIDRETH1      RIDRETH2  \\\n",
       "count  10377.000000  10199.000000  9523.000000  10377.000000  10378.000000   \n",
       "mean      29.701262    350.151289   345.017957      2.565385      2.238293   \n",
       "std       24.894062    286.460814   282.898586      1.268194      1.134821   \n",
       "min      -69.000000      0.000000     0.000000      1.000000      1.000000   \n",
       "25%       11.000000    130.000000   129.000000      1.000000      1.000000   \n",
       "50%       19.000000    231.000000   229.000000      3.000000      2.000000   \n",
       "75%       48.000000    560.500000   549.000000      4.000000      3.000000   \n",
       "max      109.000000   1019.000000  1019.000000      5.000000      5.000000   \n",
       "\n",
       "       ...       WTIREP44       WTIREP45       WTIREP46       WTIREP47  \\\n",
       "count  ...   10375.000000   10375.000000   10375.000000   10375.000000   \n",
       "mean   ...   27262.634781   27254.050699   27292.018643   27332.732228   \n",
       "std    ...   30532.200228   30965.248224   30773.201867   30704.771626   \n",
       "min    ...       0.000000       0.000000       0.000000       0.000000   \n",
       "25%    ...    5825.399910    5735.609230    5803.552459    5823.602951   \n",
       "50%    ...   13125.056383   12602.772205   13053.877621   13179.998615   \n",
       "75%    ...   39342.944279   39951.418727   39771.643664   39839.701043   \n",
       "max    ...  237571.751507  235750.381473  241834.327204  232738.992025   \n",
       "\n",
       "            WTIREP48       WTIREP49       WTIREP50       WTIREP51  \\\n",
       "count   10375.000000   10375.000000   10378.000000   10378.000000   \n",
       "mean    27294.538724   27289.947031   27316.319076   27309.103507   \n",
       "std     30126.873213   30333.994776   30382.665279   30833.111259   \n",
       "min         0.000000       0.000000       0.000000       0.000000   \n",
       "25%      5984.731946    5887.112966    5908.787800    5812.202275   \n",
       "50%     13405.471918   13272.273365   13479.283290   13078.262881   \n",
       "75%     39474.064714   39883.193311   39115.824760   39386.954612   \n",
       "max    237147.546794  237076.103694  238360.240849  236648.979858   \n",
       "\n",
       "            WTIREP52    EDUCATION  \n",
       "count   10378.000000  8757.000000  \n",
       "mean    27275.031006     1.645541  \n",
       "std     30440.720487     0.916061  \n",
       "min         0.000000     1.000000  \n",
       "25%      5791.221946     1.000000  \n",
       "50%     13483.749560     1.000000  \n",
       "75%     39786.020191     2.000000  \n",
       "max    236964.160656     9.000000  \n",
       "\n",
       "[8 rows x 143 columns]"
      ]
     },
     "execution_count": 16,
     "metadata": {},
     "output_type": "execute_result"
    }
   ],
   "source": [
    "demo.drop('DMDEDUC2', axis=1, inplace=True)\n",
    "demo.drop('DMDEDUC3', axis=1, inplace=True)\n",
    "\n",
    "demo.describe()"
   ]
  },
  {
   "cell_type": "markdown",
   "metadata": {},
   "source": [
    "Save The Data\n",
    "---"
   ]
  },
  {
   "cell_type": "code",
   "execution_count": null,
   "metadata": {
    "collapsed": true
   },
   "outputs": [],
   "source": [
    "# demo.to_csv('Demographics.csv', index=False)"
   ]
  },
  {
   "cell_type": "code",
   "execution_count": null,
   "metadata": {
    "collapsed": true
   },
   "outputs": [],
   "source": []
  }
 ],
 "metadata": {
  "kernelspec": {
   "display_name": "Python 3",
   "language": "python",
   "name": "python3"
  },
  "language_info": {
   "codemirror_mode": {
    "name": "ipython",
    "version": 3
   },
   "file_extension": ".py",
   "mimetype": "text/x-python",
   "name": "python",
   "nbconvert_exporter": "python",
   "pygments_lexer": "ipython3",
   "version": "3.8.5"
  }
 },
 "nbformat": 4,
 "nbformat_minor": 2
}
